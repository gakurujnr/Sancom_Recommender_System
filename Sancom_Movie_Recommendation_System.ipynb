{
  "nbformat": 4,
  "nbformat_minor": 0,
  "metadata": {
    "colab": {
      "name": "Sancom_Movie_Recommendation_System",
      "provenance": [],
      "collapsed_sections": [],
      "authorship_tag": "ABX9TyNIGvA26D79qlVIeX11Ijhm",
      "include_colab_link": true
    },
    "kernelspec": {
      "name": "python3",
      "display_name": "Python 3"
    }
  },
  "cells": [
    {
      "cell_type": "markdown",
      "metadata": {
        "id": "view-in-github",
        "colab_type": "text"
      },
      "source": [
        "<a href=\"https://colab.research.google.com/github/gakurujnr/Sancom_Recommender_System/blob/main/Sancom_Movie_Recommendation_System.ipynb\" target=\"_parent\"><img src=\"https://colab.research.google.com/assets/colab-badge.svg\" alt=\"Open In Colab\"/></a>"
      ]
    },
    {
      "cell_type": "markdown",
      "metadata": {
        "id": "YYkufQOonlVb"
      },
      "source": [
        "Build a movie recommender system using a Python library such as Surprise\n",
        "\n",
        "or FastFM."
      ]
    },
    {
      "cell_type": "markdown",
      "metadata": {
        "id": "KKUPIj5FuMwa"
      },
      "source": [
        "# Movie Recommender Sysytem\n",
        "\n",
        "\n",
        "Recommender systems are useful for recommending users items based on their past preferences. Broadly, recommender systems can be split into content-based and collaborative-filtering types."
      ]
    },
    {
      "cell_type": "markdown",
      "metadata": {
        "id": "vk5MCHPuuHIx"
      },
      "source": [
        "## Surprise"
      ]
    },
    {
      "cell_type": "markdown",
      "metadata": {
        "id": "WYux_49orpVy"
      },
      "source": [
        "Surprise is a Python scikit specialized for recommender systems. \n",
        "It provides built-in public datasets, ready to deploy Collaborative Filtering algorithms, and evaluation metrics."
      ]
    },
    {
      "cell_type": "markdown",
      "metadata": {
        "id": "YfCwhxxAvXUW"
      },
      "source": [
        "### Importing Libraries"
      ]
    },
    {
      "cell_type": "code",
      "metadata": {
        "id": "gImQa2n_t46i",
        "outputId": "dd3b8833-bbdd-4eb3-bb8a-22c102fd7d9e",
        "colab": {
          "base_uri": "https://localhost:8080/"
        }
      },
      "source": [
        "## Installing Surprise\n",
        "\n",
        "!pip install surprise"
      ],
      "execution_count": 5,
      "outputs": [
        {
          "output_type": "stream",
          "text": [
            "Requirement already satisfied: surprise in /usr/local/lib/python3.6/dist-packages (0.1)\n",
            "Requirement already satisfied: scikit-surprise in /usr/local/lib/python3.6/dist-packages (from surprise) (1.1.1)\n",
            "Requirement already satisfied: six>=1.10.0 in /usr/local/lib/python3.6/dist-packages (from scikit-surprise->surprise) (1.15.0)\n",
            "Requirement already satisfied: numpy>=1.11.2 in /usr/local/lib/python3.6/dist-packages (from scikit-surprise->surprise) (1.18.5)\n",
            "Requirement already satisfied: scipy>=1.0.0 in /usr/local/lib/python3.6/dist-packages (from scikit-surprise->surprise) (1.4.1)\n",
            "Requirement already satisfied: joblib>=0.11 in /usr/local/lib/python3.6/dist-packages (from scikit-surprise->surprise) (0.17.0)\n"
          ],
          "name": "stdout"
        }
      ]
    },
    {
      "cell_type": "markdown",
      "metadata": {
        "id": "qf-eU6x2uvNM"
      },
      "source": [
        "## Python Libraries"
      ]
    },
    {
      "cell_type": "code",
      "metadata": {
        "id": "0kTbHV0Cuz6y"
      },
      "source": [
        "# Importing Numpy\n",
        "import numpy as np    ## Python library used for working with arrays.\n",
        "\n",
        "# Importing Pandas\n",
        "import pandas as pd   ## Used for Data Analysis\n",
        "\n",
        "# Importing Seaborn\n",
        "import seaborn as sns  ## Python data visualization library based on matplotlib\n",
        "\n",
        "# Importing Matplotlib\n",
        "import matplotlib.pyplot as plt   ## It is a python Data Visualization Tool\n",
        "%matplotlib inline\n",
        "\n",
        "# Importing scipy from stats\n",
        "from scipy import stats"
      ],
      "execution_count": 41,
      "outputs": []
    },
    {
      "cell_type": "markdown",
      "metadata": {
        "id": "C_yOSkIexrJr"
      },
      "source": [
        "### Importing Machine Learning Libraries"
      ]
    },
    {
      "cell_type": "code",
      "metadata": {
        "id": "HpjW5RjgtZdQ"
      },
      "source": [
        "## Import Surprise\n",
        "from surprise import Dataset, Reader\n",
        "from surprise.model_selection import train_test_split, cross_validate\n",
        "from surprise import KNNWithMeans\n",
        "from surprise import accuracy\n",
        "\n",
        "# Importing ttest_1samp from scipy.stats\n",
        "from scipy.stats import ttest_ind\n",
        "\n",
        "# Importing ttest_1samp from scipy.stats\n",
        "from scipy.stats import ttest_1samp\n",
        "\n",
        "from IPython.display import display\n",
        "\n",
        "import warnings\n",
        "warnings.simplefilter(action='ignore', category=FutureWarning)"
      ],
      "execution_count": 43,
      "outputs": []
    },
    {
      "cell_type": "markdown",
      "metadata": {
        "id": "pjTi-in7xr--"
      },
      "source": [
        "## Importing Data"
      ]
    },
    {
      "cell_type": "markdown",
      "metadata": {
        "id": "6_1BFu_Uvqaf"
      },
      "source": [
        "We are loading the test and the train datasets"
      ]
    },
    {
      "cell_type": "code",
      "metadata": {
        "id": "GyyKWJ8kxktA",
        "outputId": "4f943f03-8a54-47ce-934d-2b012882174c",
        "colab": {
          "base_uri": "https://localhost:8080/",
          "height": 204
        }
      },
      "source": [
        "# Loading the Train Dataset from the source i.e. csv\n",
        "## \n",
        "comedytrain = pd.read_csv(\"train.csv\")\n",
        "comedytrain.head()"
      ],
      "execution_count": 22,
      "outputs": [
        {
          "output_type": "execute_result",
          "data": {
            "text/html": [
              "<div>\n",
              "<style scoped>\n",
              "    .dataframe tbody tr th:only-of-type {\n",
              "        vertical-align: middle;\n",
              "    }\n",
              "\n",
              "    .dataframe tbody tr th {\n",
              "        vertical-align: top;\n",
              "    }\n",
              "\n",
              "    .dataframe thead th {\n",
              "        text-align: right;\n",
              "    }\n",
              "</style>\n",
              "<table border=\"1\" class=\"dataframe\">\n",
              "  <thead>\n",
              "    <tr style=\"text-align: right;\">\n",
              "      <th></th>\n",
              "      <th>Viewers_ID</th>\n",
              "      <th>Joke_identifier</th>\n",
              "      <th>Response_ID</th>\n",
              "      <th>Rating</th>\n",
              "    </tr>\n",
              "  </thead>\n",
              "  <tbody>\n",
              "    <tr>\n",
              "      <th>0</th>\n",
              "      <td>A1</td>\n",
              "      <td>Klint De Drunk Enugu 1</td>\n",
              "      <td>A1_Klint De Drunk Enugu 1</td>\n",
              "      <td>0.11</td>\n",
              "    </tr>\n",
              "    <tr>\n",
              "      <th>1</th>\n",
              "      <td>A1</td>\n",
              "      <td>Klint De Drunk Enugu 2</td>\n",
              "      <td>A1_Klint De Drunk Enugu 2</td>\n",
              "      <td>-4.64</td>\n",
              "    </tr>\n",
              "    <tr>\n",
              "      <th>2</th>\n",
              "      <td>A1</td>\n",
              "      <td>Klint De Drunk PH 1</td>\n",
              "      <td>A1_Klint De Drunk PH 1</td>\n",
              "      <td>-3.39</td>\n",
              "    </tr>\n",
              "    <tr>\n",
              "      <th>3</th>\n",
              "      <td>A1</td>\n",
              "      <td>Klint De Drunk PH 2</td>\n",
              "      <td>A1_Klint De Drunk PH 2</td>\n",
              "      <td>0.44</td>\n",
              "    </tr>\n",
              "    <tr>\n",
              "      <th>4</th>\n",
              "      <td>A1</td>\n",
              "      <td>Klint De Drunk Lagos 1</td>\n",
              "      <td>A1_Klint De Drunk Lagos 1</td>\n",
              "      <td>-4.83</td>\n",
              "    </tr>\n",
              "  </tbody>\n",
              "</table>\n",
              "</div>"
            ],
            "text/plain": [
              "  Viewers_ID         Joke_identifier                Response_ID  Rating\n",
              "0         A1  Klint De Drunk Enugu 1  A1_Klint De Drunk Enugu 1    0.11\n",
              "1         A1  Klint De Drunk Enugu 2  A1_Klint De Drunk Enugu 2   -4.64\n",
              "2         A1     Klint De Drunk PH 1     A1_Klint De Drunk PH 1   -3.39\n",
              "3         A1     Klint De Drunk PH 2     A1_Klint De Drunk PH 2    0.44\n",
              "4         A1  Klint De Drunk Lagos 1  A1_Klint De Drunk Lagos 1   -4.83"
            ]
          },
          "metadata": {
            "tags": []
          },
          "execution_count": 22
        }
      ]
    },
    {
      "cell_type": "code",
      "metadata": {
        "id": "JxaquncBxJ1q",
        "outputId": "9c8f87ec-2f00-41bb-ec2c-458232669b1d",
        "colab": {
          "base_uri": "https://localhost:8080/",
          "height": 204
        }
      },
      "source": [
        "## Checking the tail of the Train Dataset\n",
        "comedytrain.tail()"
      ],
      "execution_count": 23,
      "outputs": [
        {
          "output_type": "execute_result",
          "data": {
            "text/html": [
              "<div>\n",
              "<style scoped>\n",
              "    .dataframe tbody tr th:only-of-type {\n",
              "        vertical-align: middle;\n",
              "    }\n",
              "\n",
              "    .dataframe tbody tr th {\n",
              "        vertical-align: top;\n",
              "    }\n",
              "\n",
              "    .dataframe thead th {\n",
              "        text-align: right;\n",
              "    }\n",
              "</style>\n",
              "<table border=\"1\" class=\"dataframe\">\n",
              "  <thead>\n",
              "    <tr style=\"text-align: right;\">\n",
              "      <th></th>\n",
              "      <th>Viewers_ID</th>\n",
              "      <th>Joke_identifier</th>\n",
              "      <th>Response_ID</th>\n",
              "      <th>Rating</th>\n",
              "    </tr>\n",
              "  </thead>\n",
              "  <tbody>\n",
              "    <tr>\n",
              "      <th>612697</th>\n",
              "      <td>A9999</td>\n",
              "      <td>Gordons Lagos 2</td>\n",
              "      <td>A9999_Gordons Lagos 2</td>\n",
              "      <td>-0.92</td>\n",
              "    </tr>\n",
              "    <tr>\n",
              "      <th>612698</th>\n",
              "      <td>A9999</td>\n",
              "      <td>Gordons Lagos 3</td>\n",
              "      <td>A9999_Gordons Lagos 3</td>\n",
              "      <td>2.44</td>\n",
              "    </tr>\n",
              "    <tr>\n",
              "      <th>612699</th>\n",
              "      <td>A9999</td>\n",
              "      <td>Gordons Lagos 4</td>\n",
              "      <td>A9999_Gordons Lagos 4</td>\n",
              "      <td>1.03</td>\n",
              "    </tr>\n",
              "    <tr>\n",
              "      <th>612700</th>\n",
              "      <td>A9999</td>\n",
              "      <td>Gordons Abuja 1</td>\n",
              "      <td>A9999_Gordons Abuja 1</td>\n",
              "      <td>1.22</td>\n",
              "    </tr>\n",
              "    <tr>\n",
              "      <th>612701</th>\n",
              "      <td>A9999</td>\n",
              "      <td>Gordons Abuja 4</td>\n",
              "      <td>A9999_Gordons Abuja 4</td>\n",
              "      <td>1.28</td>\n",
              "    </tr>\n",
              "  </tbody>\n",
              "</table>\n",
              "</div>"
            ],
            "text/plain": [
              "       Viewers_ID  Joke_identifier            Response_ID  Rating\n",
              "612697      A9999  Gordons Lagos 2  A9999_Gordons Lagos 2   -0.92\n",
              "612698      A9999  Gordons Lagos 3  A9999_Gordons Lagos 3    2.44\n",
              "612699      A9999  Gordons Lagos 4  A9999_Gordons Lagos 4    1.03\n",
              "612700      A9999  Gordons Abuja 1  A9999_Gordons Abuja 1    1.22\n",
              "612701      A9999  Gordons Abuja 4  A9999_Gordons Abuja 4    1.28"
            ]
          },
          "metadata": {
            "tags": []
          },
          "execution_count": 23
        }
      ]
    },
    {
      "cell_type": "code",
      "metadata": {
        "id": "eTuLAGFuvV4A",
        "outputId": "33d29d95-0cc0-476b-a510-2f2df0603f71",
        "colab": {
          "base_uri": "https://localhost:8080/",
          "height": 204
        }
      },
      "source": [
        "# Loading the Test Dataset from the source i.e. csv\n",
        "## \n",
        "comedytest = pd.read_csv(\"test.csv\")\n",
        "comedytest.head()"
      ],
      "execution_count": 24,
      "outputs": [
        {
          "output_type": "execute_result",
          "data": {
            "text/html": [
              "<div>\n",
              "<style scoped>\n",
              "    .dataframe tbody tr th:only-of-type {\n",
              "        vertical-align: middle;\n",
              "    }\n",
              "\n",
              "    .dataframe tbody tr th {\n",
              "        vertical-align: top;\n",
              "    }\n",
              "\n",
              "    .dataframe thead th {\n",
              "        text-align: right;\n",
              "    }\n",
              "</style>\n",
              "<table border=\"1\" class=\"dataframe\">\n",
              "  <thead>\n",
              "    <tr style=\"text-align: right;\">\n",
              "      <th></th>\n",
              "      <th>Viewers_ID</th>\n",
              "      <th>Joke_identifier</th>\n",
              "      <th>Response_ID</th>\n",
              "    </tr>\n",
              "  </thead>\n",
              "  <tbody>\n",
              "    <tr>\n",
              "      <th>0</th>\n",
              "      <td>A1</td>\n",
              "      <td>Akpororo Lagos 1</td>\n",
              "      <td>A1_Akpororo Lagos 1</td>\n",
              "    </tr>\n",
              "    <tr>\n",
              "      <th>1</th>\n",
              "      <td>A1</td>\n",
              "      <td>Akpororo Abuja 1</td>\n",
              "      <td>A1_Akpororo Abuja 1</td>\n",
              "    </tr>\n",
              "    <tr>\n",
              "      <th>2</th>\n",
              "      <td>A1</td>\n",
              "      <td>Akpororo Abuja 5</td>\n",
              "      <td>A1_Akpororo Abuja 5</td>\n",
              "    </tr>\n",
              "    <tr>\n",
              "      <th>3</th>\n",
              "      <td>A1</td>\n",
              "      <td>I Go Dye Benin 1</td>\n",
              "      <td>A1_I Go Dye Benin 1</td>\n",
              "    </tr>\n",
              "    <tr>\n",
              "      <th>4</th>\n",
              "      <td>A1</td>\n",
              "      <td>I Go Dye Benin 3</td>\n",
              "      <td>A1_I Go Dye Benin 3</td>\n",
              "    </tr>\n",
              "  </tbody>\n",
              "</table>\n",
              "</div>"
            ],
            "text/plain": [
              "  Viewers_ID   Joke_identifier          Response_ID\n",
              "0         A1  Akpororo Lagos 1  A1_Akpororo Lagos 1\n",
              "1         A1  Akpororo Abuja 1  A1_Akpororo Abuja 1\n",
              "2         A1  Akpororo Abuja 5  A1_Akpororo Abuja 5\n",
              "3         A1  I Go Dye Benin 1  A1_I Go Dye Benin 1\n",
              "4         A1  I Go Dye Benin 3  A1_I Go Dye Benin 3"
            ]
          },
          "metadata": {
            "tags": []
          },
          "execution_count": 24
        }
      ]
    },
    {
      "cell_type": "code",
      "metadata": {
        "id": "fexLuoeSxWI1",
        "outputId": "6de1cbf7-28e2-4602-da1c-715afdaf709c",
        "colab": {
          "base_uri": "https://localhost:8080/",
          "height": 204
        }
      },
      "source": [
        "## Checking the tail of the Test Dataset\n",
        "comedytest.tail()"
      ],
      "execution_count": 25,
      "outputs": [
        {
          "output_type": "execute_result",
          "data": {
            "text/html": [
              "<div>\n",
              "<style scoped>\n",
              "    .dataframe tbody tr th:only-of-type {\n",
              "        vertical-align: middle;\n",
              "    }\n",
              "\n",
              "    .dataframe tbody tr th {\n",
              "        vertical-align: top;\n",
              "    }\n",
              "\n",
              "    .dataframe thead th {\n",
              "        text-align: right;\n",
              "    }\n",
              "</style>\n",
              "<table border=\"1\" class=\"dataframe\">\n",
              "  <thead>\n",
              "    <tr style=\"text-align: right;\">\n",
              "      <th></th>\n",
              "      <th>Viewers_ID</th>\n",
              "      <th>Joke_identifier</th>\n",
              "      <th>Response_ID</th>\n",
              "    </tr>\n",
              "  </thead>\n",
              "  <tbody>\n",
              "    <tr>\n",
              "      <th>435868</th>\n",
              "      <td>A9999</td>\n",
              "      <td>Funny Bone Lagos 1</td>\n",
              "      <td>A9999_Funny Bone Lagos 1</td>\n",
              "    </tr>\n",
              "    <tr>\n",
              "      <th>435869</th>\n",
              "      <td>A9999</td>\n",
              "      <td>Okey Bakassi Lagos 2</td>\n",
              "      <td>A9999_Okey Bakassi Lagos 2</td>\n",
              "    </tr>\n",
              "    <tr>\n",
              "      <th>435870</th>\n",
              "      <td>A9999</td>\n",
              "      <td>Okey Bakassi Abuja 3</td>\n",
              "      <td>A9999_Okey Bakassi Abuja 3</td>\n",
              "    </tr>\n",
              "    <tr>\n",
              "      <th>435871</th>\n",
              "      <td>A9999</td>\n",
              "      <td>MisterIbu Lagos 1</td>\n",
              "      <td>A9999_MisterIbu Lagos 1</td>\n",
              "    </tr>\n",
              "    <tr>\n",
              "      <th>435872</th>\n",
              "      <td>A9999</td>\n",
              "      <td>MisterIbu Lagos 4</td>\n",
              "      <td>A9999_MisterIbu Lagos 4</td>\n",
              "    </tr>\n",
              "  </tbody>\n",
              "</table>\n",
              "</div>"
            ],
            "text/plain": [
              "       Viewers_ID       Joke_identifier                 Response_ID\n",
              "435868      A9999    Funny Bone Lagos 1    A9999_Funny Bone Lagos 1\n",
              "435869      A9999  Okey Bakassi Lagos 2  A9999_Okey Bakassi Lagos 2\n",
              "435870      A9999  Okey Bakassi Abuja 3  A9999_Okey Bakassi Abuja 3\n",
              "435871      A9999     MisterIbu Lagos 1     A9999_MisterIbu Lagos 1\n",
              "435872      A9999     MisterIbu Lagos 4     A9999_MisterIbu Lagos 4"
            ]
          },
          "metadata": {
            "tags": []
          },
          "execution_count": 25
        }
      ]
    },
    {
      "cell_type": "code",
      "metadata": {
        "id": "btAqvTHkyHW_",
        "outputId": "96bd71c3-2e28-4f3a-cf11-731b5a06cc28",
        "colab": {
          "base_uri": "https://localhost:8080/"
        }
      },
      "source": [
        "## Checking the Train Dataset Columns\n",
        "comedytrain.columns"
      ],
      "execution_count": 26,
      "outputs": [
        {
          "output_type": "execute_result",
          "data": {
            "text/plain": [
              "Index(['Viewers_ID', 'Joke_identifier', 'Response_ID', 'Rating'], dtype='object')"
            ]
          },
          "metadata": {
            "tags": []
          },
          "execution_count": 26
        }
      ]
    },
    {
      "cell_type": "markdown",
      "metadata": {
        "id": "PCdQ5z9ax_s4"
      },
      "source": [
        "We have four columns on the train Datasets Viewers_ID, Joke_identifier, Response_ID and Rating"
      ]
    },
    {
      "cell_type": "code",
      "metadata": {
        "id": "62oxBLzcxnQi",
        "outputId": "6e3a8677-a851-462e-d63f-86693e0935c4",
        "colab": {
          "base_uri": "https://localhost:8080/"
        }
      },
      "source": [
        "## Checking the Test Dataset Columns\n",
        "comedytest.columns"
      ],
      "execution_count": 27,
      "outputs": [
        {
          "output_type": "execute_result",
          "data": {
            "text/plain": [
              "Index(['Viewers_ID', 'Joke_identifier', 'Response_ID'], dtype='object')"
            ]
          },
          "metadata": {
            "tags": []
          },
          "execution_count": 27
        }
      ]
    },
    {
      "cell_type": "markdown",
      "metadata": {
        "id": "Ns-q7KK4XgnE"
      },
      "source": [
        "We have three columns on the Test Dataset Viewers_ID, Joke_identifier and Response_ID"
      ]
    },
    {
      "cell_type": "markdown",
      "metadata": {
        "id": "4P47h6XwyYqY"
      },
      "source": [
        "Looking at what each column represents:\n",
        "\n",
        "1. Viewers_ID: Unique ID of each respondent\n",
        "\n",
        "2. Joke_identifier: Unique ID for each of the 127 comedy content (ties to specific comedian and event location)\n",
        "\n",
        "3. Response_ID: Unique ID for unique combinations of Viewer_ID and ComedyEvent_identifier (as a single viewer may have rated different comedy jokes).\n",
        "\n",
        "4. Rating: Rating given by the viewer to the specific comedy event"
      ]
    },
    {
      "cell_type": "markdown",
      "metadata": {
        "id": "uoNbfYbbwv5C"
      },
      "source": [
        "## Exploratory Data Analysis\n",
        "\n",
        "The purpose of this EDA is to find insights which will serve us later on for Data cleaning which will ultimately be used into a machine learning algorithm and Modelling."
      ]
    },
    {
      "cell_type": "code",
      "metadata": {
        "id": "HTAfg8IE2vTy",
        "outputId": "5e161b0b-a44e-4f3a-b18c-ce63653e888c",
        "colab": {
          "base_uri": "https://localhost:8080/"
        }
      },
      "source": [
        "## Checking the Train Dataset Info\n",
        "comedytrain.info()"
      ],
      "execution_count": 28,
      "outputs": [
        {
          "output_type": "stream",
          "text": [
            "<class 'pandas.core.frame.DataFrame'>\n",
            "RangeIndex: 612702 entries, 0 to 612701\n",
            "Data columns (total 4 columns):\n",
            " #   Column           Non-Null Count   Dtype  \n",
            "---  ------           --------------   -----  \n",
            " 0   Viewers_ID       612702 non-null  object \n",
            " 1   Joke_identifier  612702 non-null  object \n",
            " 2   Response_ID      612702 non-null  object \n",
            " 3   Rating           612702 non-null  float64\n",
            "dtypes: float64(1), object(3)\n",
            "memory usage: 18.7+ MB\n"
          ],
          "name": "stdout"
        }
      ]
    },
    {
      "cell_type": "code",
      "metadata": {
        "id": "nhb5ZarZy-Ml",
        "outputId": "c65de71a-dbf7-4172-a7ff-7ab09d0ff35b",
        "colab": {
          "base_uri": "https://localhost:8080/"
        }
      },
      "source": [
        "## Checking the Test Dataset Info\n",
        "comedytest.info()"
      ],
      "execution_count": 29,
      "outputs": [
        {
          "output_type": "stream",
          "text": [
            "<class 'pandas.core.frame.DataFrame'>\n",
            "RangeIndex: 435873 entries, 0 to 435872\n",
            "Data columns (total 3 columns):\n",
            " #   Column           Non-Null Count   Dtype \n",
            "---  ------           --------------   ----- \n",
            " 0   Viewers_ID       435873 non-null  object\n",
            " 1   Joke_identifier  435873 non-null  object\n",
            " 2   Response_ID      435873 non-null  object\n",
            "dtypes: object(3)\n",
            "memory usage: 10.0+ MB\n"
          ],
          "name": "stdout"
        }
      ]
    },
    {
      "cell_type": "code",
      "metadata": {
        "id": "ynwphyzZzMDS",
        "outputId": "8e422aa4-200a-4cdc-99c1-991065fbf572",
        "colab": {
          "base_uri": "https://localhost:8080/"
        }
      },
      "source": [
        "# Checking whether each column has an appropriate datatype on both the train and test Dataset\n",
        "#\n",
        "print('Train: \\n%s' % comedytrain.dtypes)\n",
        "print('\\nTest: \\n%s' % comedytest.dtypes)"
      ],
      "execution_count": 30,
      "outputs": [
        {
          "output_type": "stream",
          "text": [
            "Train: \n",
            "Viewers_ID          object\n",
            "Joke_identifier     object\n",
            "Response_ID         object\n",
            "Rating             float64\n",
            "dtype: object\n",
            "\n",
            "Test: \n",
            "Viewers_ID         object\n",
            "Joke_identifier    object\n",
            "Response_ID        object\n",
            "dtype: object\n"
          ],
          "name": "stdout"
        }
      ]
    },
    {
      "cell_type": "markdown",
      "metadata": {
        "id": "HfGr-bY3zWmg"
      },
      "source": [
        "The train Dataset has 3 objects and one float while test dataset has 3 objects"
      ]
    },
    {
      "cell_type": "code",
      "metadata": {
        "id": "znXaneqhzq7z",
        "outputId": "7e9789b0-5e69-4cc1-f1ed-b81d988f1b6d",
        "colab": {
          "base_uri": "https://localhost:8080/"
        }
      },
      "source": [
        "## Checking unique values on the joke identifier and viewers_id and train dataset\n",
        "print('Number of unique values in Joke identifier: %d' % comedytrain.Joke_identifier.nunique())\n",
        "print('Number of unique values in Viewers_ID: %d' % comedytrain.Viewers_ID.nunique())"
      ],
      "execution_count": 31,
      "outputs": [
        {
          "output_type": "stream",
          "text": [
            "Number of unique values in Joke identifier: 127\n",
            "Number of unique values in Viewers_ID: 40863\n"
          ],
          "name": "stdout"
        }
      ]
    },
    {
      "cell_type": "markdown",
      "metadata": {
        "id": "0SQ-S4LR16Wz"
      },
      "source": [
        "## Data Cleaning"
      ]
    },
    {
      "cell_type": "code",
      "metadata": {
        "id": "OXKrIN1H2AgU",
        "outputId": "282944bd-df8d-40a8-8f09-f69103ba127a",
        "colab": {
          "base_uri": "https://localhost:8080/",
          "height": 323
        }
      },
      "source": [
        "# Checking for Outliers\n",
        "# Outliers in rating \n",
        "\n",
        "comedytrain['Rating'].plot.box(figsize=(6,5))\n",
        "plt.show()"
      ],
      "execution_count": 44,
      "outputs": [
        {
          "output_type": "display_data",
          "data": {
            "image/png": "[encoded data removed]",
            "text/plain": [
              "<Figure size 432x360 with 1 Axes>"
            ]
          },
          "metadata": {
            "tags": [],
            "needs_background": "light"
          }
        }
      ]
    },
    {
      "cell_type": "markdown",
      "metadata": {
        "id": "HzAC1tzW2PQ7"
      },
      "source": [
        "No outliers on the rating column according to boxplot"
      ]
    },
    {
      "cell_type": "code",
      "metadata": {
        "id": "ctSsnecFccgw",
        "outputId": "5fc33202-1bd2-465d-d787-674d0fd32ff6",
        "colab": {
          "base_uri": "https://localhost:8080/"
        }
      },
      "source": [
        "## Check for missing values on the Train Dataset per column\n",
        "\n",
        "comedytrain.isnull().sum()"
      ],
      "execution_count": 47,
      "outputs": [
        {
          "output_type": "execute_result",
          "data": {
            "text/plain": [
              "Viewers_ID         0\n",
              "Joke_identifier    0\n",
              "Response_ID        0\n",
              "Rating             0\n",
              "dtype: int64"
            ]
          },
          "metadata": {
            "tags": []
          },
          "execution_count": 47
        }
      ]
    },
    {
      "cell_type": "code",
      "metadata": {
        "id": "20c4GFvo3EZN",
        "outputId": "f8ffacd0-6ef2-4fdc-9b13-f3d87fe88693",
        "colab": {
          "base_uri": "https://localhost:8080/"
        }
      },
      "source": [
        "## Check for missing values on the Test Dataset per column\n",
        "\n",
        "comedytest.isnull().sum()"
      ],
      "execution_count": 46,
      "outputs": [
        {
          "output_type": "execute_result",
          "data": {
            "text/plain": [
              "Viewers_ID         0\n",
              "Joke_identifier    0\n",
              "Response_ID        0\n",
              "dtype: int64"
            ]
          },
          "metadata": {
            "tags": []
          },
          "execution_count": 46
        }
      ]
    },
    {
      "cell_type": "markdown",
      "metadata": {
        "id": "1OQcj5Rc3O6L"
      },
      "source": [
        "There are no missing values on both the Train and Test Dataset"
      ]
    },
    {
      "cell_type": "code",
      "metadata": {
        "id": "zrdDxjs03Zp2",
        "outputId": "83515af8-9cd3-4ffa-8561-4b3c087d61eb",
        "colab": {
          "base_uri": "https://localhost:8080/"
        }
      },
      "source": [
        "## Checking for unique values count per columns in the Datasets\n",
        "print(comedytrain.nunique())\n",
        "print('\\n')\n",
        "print(comedytest.nunique())"
      ],
      "execution_count": 48,
      "outputs": [
        {
          "output_type": "stream",
          "text": [
            "Viewers_ID          40863\n",
            "Joke_identifier       127\n",
            "Response_ID        612702\n",
            "Rating                641\n",
            "dtype: int64\n",
            "\n",
            "\n",
            "Viewers_ID          40863\n",
            "Joke_identifier       135\n",
            "Response_ID        435873\n",
            "dtype: int64\n"
          ],
          "name": "stdout"
        }
      ]
    },
    {
      "cell_type": "code",
      "metadata": {
        "id": "Nw1bzr534Gex",
        "outputId": "a7850d48-2057-4555-b085-d60ed05aff2c",
        "colab": {
          "base_uri": "https://localhost:8080/",
          "height": 204
        }
      },
      "source": [
        "## Drop irrelevant column on train Dataset\n",
        "comedytrain.drop(\"Response_ID\", axis = 1, inplace=True)\n",
        "comedytrain.head()"
      ],
      "execution_count": 51,
      "outputs": [
        {
          "output_type": "execute_result",
          "data": {
            "text/html": [
              "<div>\n",
              "<style scoped>\n",
              "    .dataframe tbody tr th:only-of-type {\n",
              "        vertical-align: middle;\n",
              "    }\n",
              "\n",
              "    .dataframe tbody tr th {\n",
              "        vertical-align: top;\n",
              "    }\n",
              "\n",
              "    .dataframe thead th {\n",
              "        text-align: right;\n",
              "    }\n",
              "</style>\n",
              "<table border=\"1\" class=\"dataframe\">\n",
              "  <thead>\n",
              "    <tr style=\"text-align: right;\">\n",
              "      <th></th>\n",
              "      <th>Viewers_ID</th>\n",
              "      <th>Joke_identifier</th>\n",
              "      <th>Rating</th>\n",
              "    </tr>\n",
              "  </thead>\n",
              "  <tbody>\n",
              "    <tr>\n",
              "      <th>0</th>\n",
              "      <td>A1</td>\n",
              "      <td>Klint De Drunk Enugu 1</td>\n",
              "      <td>0.11</td>\n",
              "    </tr>\n",
              "    <tr>\n",
              "      <th>1</th>\n",
              "      <td>A1</td>\n",
              "      <td>Klint De Drunk Enugu 2</td>\n",
              "      <td>-4.64</td>\n",
              "    </tr>\n",
              "    <tr>\n",
              "      <th>2</th>\n",
              "      <td>A1</td>\n",
              "      <td>Klint De Drunk PH 1</td>\n",
              "      <td>-3.39</td>\n",
              "    </tr>\n",
              "    <tr>\n",
              "      <th>3</th>\n",
              "      <td>A1</td>\n",
              "      <td>Klint De Drunk PH 2</td>\n",
              "      <td>0.44</td>\n",
              "    </tr>\n",
              "    <tr>\n",
              "      <th>4</th>\n",
              "      <td>A1</td>\n",
              "      <td>Klint De Drunk Lagos 1</td>\n",
              "      <td>-4.83</td>\n",
              "    </tr>\n",
              "  </tbody>\n",
              "</table>\n",
              "</div>"
            ],
            "text/plain": [
              "  Viewers_ID         Joke_identifier  Rating\n",
              "0         A1  Klint De Drunk Enugu 1    0.11\n",
              "1         A1  Klint De Drunk Enugu 2   -4.64\n",
              "2         A1     Klint De Drunk PH 1   -3.39\n",
              "3         A1     Klint De Drunk PH 2    0.44\n",
              "4         A1  Klint De Drunk Lagos 1   -4.83"
            ]
          },
          "metadata": {
            "tags": []
          },
          "execution_count": 51
        }
      ]
    },
    {
      "cell_type": "code",
      "metadata": {
        "id": "EEZQlaGb40p_",
        "outputId": "7581c277-b734-4891-e05c-544c3827e5db",
        "colab": {
          "base_uri": "https://localhost:8080/",
          "height": 204
        }
      },
      "source": [
        "## Drop irrelevant column on test Dataset\n",
        "comedytest.drop(\"Response_ID\", axis = 1, inplace=True)\n",
        "comedytest.head()"
      ],
      "execution_count": 52,
      "outputs": [
        {
          "output_type": "execute_result",
          "data": {
            "text/html": [
              "<div>\n",
              "<style scoped>\n",
              "    .dataframe tbody tr th:only-of-type {\n",
              "        vertical-align: middle;\n",
              "    }\n",
              "\n",
              "    .dataframe tbody tr th {\n",
              "        vertical-align: top;\n",
              "    }\n",
              "\n",
              "    .dataframe thead th {\n",
              "        text-align: right;\n",
              "    }\n",
              "</style>\n",
              "<table border=\"1\" class=\"dataframe\">\n",
              "  <thead>\n",
              "    <tr style=\"text-align: right;\">\n",
              "      <th></th>\n",
              "      <th>Viewers_ID</th>\n",
              "      <th>Joke_identifier</th>\n",
              "    </tr>\n",
              "  </thead>\n",
              "  <tbody>\n",
              "    <tr>\n",
              "      <th>0</th>\n",
              "      <td>A1</td>\n",
              "      <td>Akpororo Lagos 1</td>\n",
              "    </tr>\n",
              "    <tr>\n",
              "      <th>1</th>\n",
              "      <td>A1</td>\n",
              "      <td>Akpororo Abuja 1</td>\n",
              "    </tr>\n",
              "    <tr>\n",
              "      <th>2</th>\n",
              "      <td>A1</td>\n",
              "      <td>Akpororo Abuja 5</td>\n",
              "    </tr>\n",
              "    <tr>\n",
              "      <th>3</th>\n",
              "      <td>A1</td>\n",
              "      <td>I Go Dye Benin 1</td>\n",
              "    </tr>\n",
              "    <tr>\n",
              "      <th>4</th>\n",
              "      <td>A1</td>\n",
              "      <td>I Go Dye Benin 3</td>\n",
              "    </tr>\n",
              "  </tbody>\n",
              "</table>\n",
              "</div>"
            ],
            "text/plain": [
              "  Viewers_ID   Joke_identifier\n",
              "0         A1  Akpororo Lagos 1\n",
              "1         A1  Akpororo Abuja 1\n",
              "2         A1  Akpororo Abuja 5\n",
              "3         A1  I Go Dye Benin 1\n",
              "4         A1  I Go Dye Benin 3"
            ]
          },
          "metadata": {
            "tags": []
          },
          "execution_count": 52
        }
      ]
    },
    {
      "cell_type": "markdown",
      "metadata": {
        "id": "zwpX2weA5C1M"
      },
      "source": [
        "## Univariate Analysis"
      ]
    },
    {
      "cell_type": "code",
      "metadata": {
        "id": "VfL_dtds5GbG",
        "outputId": "c139cd30-d780-42a0-8aa2-d53f93dc729e",
        "colab": {
          "base_uri": "https://localhost:8080/",
          "height": 173
        }
      },
      "source": [
        "## Describe the Test Dataset\n",
        "comedytest.describe()"
      ],
      "execution_count": 53,
      "outputs": [
        {
          "output_type": "execute_result",
          "data": {
            "text/html": [
              "<div>\n",
              "<style scoped>\n",
              "    .dataframe tbody tr th:only-of-type {\n",
              "        vertical-align: middle;\n",
              "    }\n",
              "\n",
              "    .dataframe tbody tr th {\n",
              "        vertical-align: top;\n",
              "    }\n",
              "\n",
              "    .dataframe thead th {\n",
              "        text-align: right;\n",
              "    }\n",
              "</style>\n",
              "<table border=\"1\" class=\"dataframe\">\n",
              "  <thead>\n",
              "    <tr style=\"text-align: right;\">\n",
              "      <th></th>\n",
              "      <th>Viewers_ID</th>\n",
              "      <th>Joke_identifier</th>\n",
              "    </tr>\n",
              "  </thead>\n",
              "  <tbody>\n",
              "    <tr>\n",
              "      <th>count</th>\n",
              "      <td>435873</td>\n",
              "      <td>435873</td>\n",
              "    </tr>\n",
              "    <tr>\n",
              "      <th>unique</th>\n",
              "      <td>40863</td>\n",
              "      <td>135</td>\n",
              "    </tr>\n",
              "    <tr>\n",
              "      <th>top</th>\n",
              "      <td>A366</td>\n",
              "      <td>Helen Paul Lagos 3</td>\n",
              "    </tr>\n",
              "    <tr>\n",
              "      <th>freq</th>\n",
              "      <td>37</td>\n",
              "      <td>16129</td>\n",
              "    </tr>\n",
              "  </tbody>\n",
              "</table>\n",
              "</div>"
            ],
            "text/plain": [
              "       Viewers_ID     Joke_identifier\n",
              "count      435873              435873\n",
              "unique      40863                 135\n",
              "top          A366  Helen Paul Lagos 3\n",
              "freq           37               16129"
            ]
          },
          "metadata": {
            "tags": []
          },
          "execution_count": 53
        }
      ]
    },
    {
      "cell_type": "code",
      "metadata": {
        "id": "NGLbNsDf5M3B",
        "outputId": "da8d58fe-c723-4a57-8d8f-f8413607622e",
        "colab": {
          "base_uri": "https://localhost:8080/",
          "height": 297
        }
      },
      "source": [
        "## Describe the Train Dataset\n",
        "comedytrain.describe()"
      ],
      "execution_count": 54,
      "outputs": [
        {
          "output_type": "execute_result",
          "data": {
            "text/html": [
              "<div>\n",
              "<style scoped>\n",
              "    .dataframe tbody tr th:only-of-type {\n",
              "        vertical-align: middle;\n",
              "    }\n",
              "\n",
              "    .dataframe tbody tr th {\n",
              "        vertical-align: top;\n",
              "    }\n",
              "\n",
              "    .dataframe thead th {\n",
              "        text-align: right;\n",
              "    }\n",
              "</style>\n",
              "<table border=\"1\" class=\"dataframe\">\n",
              "  <thead>\n",
              "    <tr style=\"text-align: right;\">\n",
              "      <th></th>\n",
              "      <th>Rating</th>\n",
              "    </tr>\n",
              "  </thead>\n",
              "  <tbody>\n",
              "    <tr>\n",
              "      <th>count</th>\n",
              "      <td>612702.000000</td>\n",
              "    </tr>\n",
              "    <tr>\n",
              "      <th>mean</th>\n",
              "      <td>0.647024</td>\n",
              "    </tr>\n",
              "    <tr>\n",
              "      <th>std</th>\n",
              "      <td>2.667301</td>\n",
              "    </tr>\n",
              "    <tr>\n",
              "      <th>min</th>\n",
              "      <td>-5.000000</td>\n",
              "    </tr>\n",
              "    <tr>\n",
              "      <th>25%</th>\n",
              "      <td>-1.300000</td>\n",
              "    </tr>\n",
              "    <tr>\n",
              "      <th>50%</th>\n",
              "      <td>0.950000</td>\n",
              "    </tr>\n",
              "    <tr>\n",
              "      <th>75%</th>\n",
              "      <td>2.690000</td>\n",
              "    </tr>\n",
              "    <tr>\n",
              "      <th>max</th>\n",
              "      <td>5.000000</td>\n",
              "    </tr>\n",
              "  </tbody>\n",
              "</table>\n",
              "</div>"
            ],
            "text/plain": [
              "              Rating\n",
              "count  612702.000000\n",
              "mean        0.647024\n",
              "std         2.667301\n",
              "min        -5.000000\n",
              "25%        -1.300000\n",
              "50%         0.950000\n",
              "75%         2.690000\n",
              "max         5.000000"
            ]
          },
          "metadata": {
            "tags": []
          },
          "execution_count": 54
        }
      ]
    },
    {
      "cell_type": "markdown",
      "metadata": {
        "id": "5vsCfNT95dZn"
      },
      "source": [
        "The average rating is 0.647024.\n",
        "\n",
        "Minimum rating was -5.0.\n",
        "\n",
        "Maximum rating was 5.0."
      ]
    },
    {
      "cell_type": "code",
      "metadata": {
        "id": "qK4stLu35khx",
        "outputId": "1f07da43-f4e2-4c3a-e246-c20d22e293b1",
        "colab": {
          "base_uri": "https://localhost:8080/",
          "height": 298
        }
      },
      "source": [
        "# Distribution of rating size\n",
        "#\n",
        "sns.distplot(comedytrain.Rating, bins = 10, kde=False, color = 'red')\n",
        "plt.title('Distribution of Ratings')\n",
        "plt.ylabel('Count of ratings')\n",
        "plt.xlabel('Show Ratings')\n",
        "plt.show()"
      ],
      "execution_count": 56,
      "outputs": [
        {
          "output_type": "display_data",
          "data": {
            "image/png": "[encoded data removed]",
            "text/plain": [
              "<Figure size 432x288 with 1 Axes>"
            ]
          },
          "metadata": {
            "tags": [],
            "needs_background": "light"
          }
        }
      ]
    },
    {
      "cell_type": "markdown",
      "metadata": {
        "id": "fN25fZvY54u0"
      },
      "source": [
        "The distribution is skewed to the left which states that the mean is to the left of the median"
      ]
    },
    {
      "cell_type": "code",
      "metadata": {
        "id": "zckQuaPL622i",
        "outputId": "a7118233-2054-4a97-95c1-43f8110e360a",
        "colab": {
          "base_uri": "https://localhost:8080/"
        }
      },
      "source": [
        "# Skew measurements for the training set.\n",
        "\n",
        "comedytrain.Rating.skew()\n",
        "\n",
        "# distribution of ratings of training is skewed to the left "
      ],
      "execution_count": 58,
      "outputs": [
        {
          "output_type": "execute_result",
          "data": {
            "text/plain": [
              "-0.3407666341369931"
            ]
          },
          "metadata": {
            "tags": []
          },
          "execution_count": 58
        }
      ]
    },
    {
      "cell_type": "code",
      "metadata": {
        "id": "xKVuJExu7AFW",
        "outputId": "f6eaeb11-e7e4-4ade-8664-389ed9598e33",
        "colab": {
          "base_uri": "https://localhost:8080/"
        }
      },
      "source": [
        "# kurtosis measurements for entire datafame\n",
        "\n",
        "comedytrain.Rating.kurt()\n"
      ],
      "execution_count": 59,
      "outputs": [
        {
          "output_type": "execute_result",
          "data": {
            "text/plain": [
              "-0.773735115840859"
            ]
          },
          "metadata": {
            "tags": []
          },
          "execution_count": 59
        }
      ]
    },
    {
      "cell_type": "markdown",
      "metadata": {
        "id": "V8w57QgO7FlA"
      },
      "source": [
        "Value of kurtosis indicates dataframe is light-tailed(little to no outliers)"
      ]
    },
    {
      "cell_type": "code",
      "metadata": {
        "id": "VPd6mP-P7jMC",
        "outputId": "57ed41c3-e7ef-47b5-9837-abcf489779ff",
        "colab": {
          "base_uri": "https://localhost:8080/",
          "height": 311
        }
      },
      "source": [
        "## Bar Graph of a Sample of the Ratings\n",
        "comedytrain.Rating.value_counts().sample(20).plot.bar()\n",
        "plt.xlabel('Show Ratings')\n",
        "plt.ylabel('Count')\n",
        "plt.title('Bar Graph of Show Ratings Vs Count')\n",
        "plt.show()"
      ],
      "execution_count": 60,
      "outputs": [
        {
          "output_type": "display_data",
          "data": {
            "image/png": "[encoded data removed]",
            "text/plain": [
              "<Figure size 432x288 with 1 Axes>"
            ]
          },
          "metadata": {
            "tags": [],
            "needs_background": "light"
          }
        }
      ]
    },
    {
      "cell_type": "markdown",
      "metadata": {
        "id": "atSk75V28X7g"
      },
      "source": [
        "On the 20 samples taken the least rating count is -3.8 and the highest count is 1.28"
      ]
    },
    {
      "cell_type": "code",
      "metadata": {
        "id": "jSMAaSJE8Xam",
        "outputId": "d4570b8e-e1b3-4558-ea6c-23bfe24cd35b",
        "colab": {
          "base_uri": "https://localhost:8080/",
          "height": 312
        }
      },
      "source": [
        "#finding the most given rating\n",
        "Ratings=comedytrain['Rating']\n",
        "plt.hist(Ratings,bins=10,histtype='bar',rwidth=0.9)\n",
        "plt.title('Rating Distribution\\n')\n",
        "plt.xlabel('Rating')\n",
        "plt.ylabel('Count')\n",
        "plt.show()"
      ],
      "execution_count": 61,
      "outputs": [
        {
          "output_type": "display_data",
          "data": {
            "image/png": "[encoded data removed]",
            "text/plain": [
              "<Figure size 432x288 with 1 Axes>"
            ]
          },
          "metadata": {
            "tags": [],
            "needs_background": "light"
          }
        }
      ]
    },
    {
      "cell_type": "markdown",
      "metadata": {
        "id": "gvLBOnyQ85j8"
      },
      "source": [
        "Most of the ratings are positive"
      ]
    },
    {
      "cell_type": "code",
      "metadata": {
        "id": "vkhVi-uf9A_F",
        "outputId": "559296ea-d639-4a7b-85f3-a33dfc4c8983",
        "colab": {
          "base_uri": "https://localhost:8080/"
        }
      },
      "source": [
        "#getting the shape of training and validation sets\n",
        "print(\"The shape of the train Dataset is\", comedytrain.shape)\n",
        "\n",
        "print(\"The shape of the Test Dataset is\", comedytest.shape)\n"
      ],
      "execution_count": 64,
      "outputs": [
        {
          "output_type": "stream",
          "text": [
            "The shape of the train Dataset is (612702, 3)\n",
            "The shape of the Test Dataset is (435873, 2)\n"
          ],
          "name": "stdout"
        }
      ]
    },
    {
      "cell_type": "markdown",
      "metadata": {
        "id": "d_SdTxYt-R3i"
      },
      "source": [
        "## Item-Based Recommendations"
      ]
    },
    {
      "cell_type": "code",
      "metadata": {
        "id": "40pPzC1W-WEW",
        "outputId": "785c7a74-b965-428e-f201-38dafbddd8a8",
        "colab": {
          "base_uri": "https://localhost:8080/",
          "height": 204
        }
      },
      "source": [
        "## Making a copy of the Train Dataset\n",
        "cam = comedytrain.copy()\n",
        "cam.head()"
      ],
      "execution_count": 65,
      "outputs": [
        {
          "output_type": "execute_result",
          "data": {
            "text/html": [
              "<div>\n",
              "<style scoped>\n",
              "    .dataframe tbody tr th:only-of-type {\n",
              "        vertical-align: middle;\n",
              "    }\n",
              "\n",
              "    .dataframe tbody tr th {\n",
              "        vertical-align: top;\n",
              "    }\n",
              "\n",
              "    .dataframe thead th {\n",
              "        text-align: right;\n",
              "    }\n",
              "</style>\n",
              "<table border=\"1\" class=\"dataframe\">\n",
              "  <thead>\n",
              "    <tr style=\"text-align: right;\">\n",
              "      <th></th>\n",
              "      <th>Viewers_ID</th>\n",
              "      <th>Joke_identifier</th>\n",
              "      <th>Rating</th>\n",
              "    </tr>\n",
              "  </thead>\n",
              "  <tbody>\n",
              "    <tr>\n",
              "      <th>0</th>\n",
              "      <td>A1</td>\n",
              "      <td>Klint De Drunk Enugu 1</td>\n",
              "      <td>0.11</td>\n",
              "    </tr>\n",
              "    <tr>\n",
              "      <th>1</th>\n",
              "      <td>A1</td>\n",
              "      <td>Klint De Drunk Enugu 2</td>\n",
              "      <td>-4.64</td>\n",
              "    </tr>\n",
              "    <tr>\n",
              "      <th>2</th>\n",
              "      <td>A1</td>\n",
              "      <td>Klint De Drunk PH 1</td>\n",
              "      <td>-3.39</td>\n",
              "    </tr>\n",
              "    <tr>\n",
              "      <th>3</th>\n",
              "      <td>A1</td>\n",
              "      <td>Klint De Drunk PH 2</td>\n",
              "      <td>0.44</td>\n",
              "    </tr>\n",
              "    <tr>\n",
              "      <th>4</th>\n",
              "      <td>A1</td>\n",
              "      <td>Klint De Drunk Lagos 1</td>\n",
              "      <td>-4.83</td>\n",
              "    </tr>\n",
              "  </tbody>\n",
              "</table>\n",
              "</div>"
            ],
            "text/plain": [
              "  Viewers_ID         Joke_identifier  Rating\n",
              "0         A1  Klint De Drunk Enugu 1    0.11\n",
              "1         A1  Klint De Drunk Enugu 2   -4.64\n",
              "2         A1     Klint De Drunk PH 1   -3.39\n",
              "3         A1     Klint De Drunk PH 2    0.44\n",
              "4         A1  Klint De Drunk Lagos 1   -4.83"
            ]
          },
          "metadata": {
            "tags": []
          },
          "execution_count": 65
        }
      ]
    },
    {
      "cell_type": "code",
      "metadata": {
        "id": "YHi49CBJ-isj",
        "outputId": "d2f58fd3-949d-45f3-9364-71a377eed3f5",
        "colab": {
          "base_uri": "https://localhost:8080/",
          "height": 204
        }
      },
      "source": [
        "## Making a copy of the Test Dataset\n",
        "testc = comedytest.copy()\n",
        "testc.head()"
      ],
      "execution_count": 66,
      "outputs": [
        {
          "output_type": "execute_result",
          "data": {
            "text/html": [
              "<div>\n",
              "<style scoped>\n",
              "    .dataframe tbody tr th:only-of-type {\n",
              "        vertical-align: middle;\n",
              "    }\n",
              "\n",
              "    .dataframe tbody tr th {\n",
              "        vertical-align: top;\n",
              "    }\n",
              "\n",
              "    .dataframe thead th {\n",
              "        text-align: right;\n",
              "    }\n",
              "</style>\n",
              "<table border=\"1\" class=\"dataframe\">\n",
              "  <thead>\n",
              "    <tr style=\"text-align: right;\">\n",
              "      <th></th>\n",
              "      <th>Viewers_ID</th>\n",
              "      <th>Joke_identifier</th>\n",
              "    </tr>\n",
              "  </thead>\n",
              "  <tbody>\n",
              "    <tr>\n",
              "      <th>0</th>\n",
              "      <td>A1</td>\n",
              "      <td>Akpororo Lagos 1</td>\n",
              "    </tr>\n",
              "    <tr>\n",
              "      <th>1</th>\n",
              "      <td>A1</td>\n",
              "      <td>Akpororo Abuja 1</td>\n",
              "    </tr>\n",
              "    <tr>\n",
              "      <th>2</th>\n",
              "      <td>A1</td>\n",
              "      <td>Akpororo Abuja 5</td>\n",
              "    </tr>\n",
              "    <tr>\n",
              "      <th>3</th>\n",
              "      <td>A1</td>\n",
              "      <td>I Go Dye Benin 1</td>\n",
              "    </tr>\n",
              "    <tr>\n",
              "      <th>4</th>\n",
              "      <td>A1</td>\n",
              "      <td>I Go Dye Benin 3</td>\n",
              "    </tr>\n",
              "  </tbody>\n",
              "</table>\n",
              "</div>"
            ],
            "text/plain": [
              "  Viewers_ID   Joke_identifier\n",
              "0         A1  Akpororo Lagos 1\n",
              "1         A1  Akpororo Abuja 1\n",
              "2         A1  Akpororo Abuja 5\n",
              "3         A1  I Go Dye Benin 1\n",
              "4         A1  I Go Dye Benin 3"
            ]
          },
          "metadata": {
            "tags": []
          },
          "execution_count": 66
        }
      ]
    },
    {
      "cell_type": "code",
      "metadata": {
        "id": "imjbF8-8-0Ce",
        "outputId": "4196289c-0b31-48c9-9d82-759514470ddd",
        "colab": {
          "base_uri": "https://localhost:8080/",
          "height": 204
        }
      },
      "source": [
        "## Groupby the Viewers_ID and Rating\n",
        "## Taking value count which is less than 10 bbetween Rating and Viewers_ID\n",
        "vcount = cam.groupby('Viewers_ID')['Rating'].count().reset_index().sort_values('Rating', ascending=False)\n",
        "vc = vcount[~(vcount.Rating < 10)]\n",
        "vc.head()"
      ],
      "execution_count": 69,
      "outputs": [
        {
          "output_type": "execute_result",
          "data": {
            "text/html": [
              "<div>\n",
              "<style scoped>\n",
              "    .dataframe tbody tr th:only-of-type {\n",
              "        vertical-align: middle;\n",
              "    }\n",
              "\n",
              "    .dataframe tbody tr th {\n",
              "        vertical-align: top;\n",
              "    }\n",
              "\n",
              "    .dataframe thead th {\n",
              "        text-align: right;\n",
              "    }\n",
              "</style>\n",
              "<table border=\"1\" class=\"dataframe\">\n",
              "  <thead>\n",
              "    <tr style=\"text-align: right;\">\n",
              "      <th></th>\n",
              "      <th>Viewers_ID</th>\n",
              "      <th>Rating</th>\n",
              "    </tr>\n",
              "  </thead>\n",
              "  <tbody>\n",
              "    <tr>\n",
              "      <th>29556</th>\n",
              "      <td>A366</td>\n",
              "      <td>54</td>\n",
              "    </tr>\n",
              "    <tr>\n",
              "      <th>14779</th>\n",
              "      <td>A233</td>\n",
              "      <td>54</td>\n",
              "    </tr>\n",
              "    <tr>\n",
              "      <th>29667</th>\n",
              "      <td>A367</td>\n",
              "      <td>54</td>\n",
              "    </tr>\n",
              "    <tr>\n",
              "      <th>8778</th>\n",
              "      <td>A179</td>\n",
              "      <td>54</td>\n",
              "    </tr>\n",
              "    <tr>\n",
              "      <th>26334</th>\n",
              "      <td>A337</td>\n",
              "      <td>54</td>\n",
              "    </tr>\n",
              "  </tbody>\n",
              "</table>\n",
              "</div>"
            ],
            "text/plain": [
              "      Viewers_ID  Rating\n",
              "29556       A366      54\n",
              "14779       A233      54\n",
              "29667       A367      54\n",
              "8778        A179      54\n",
              "26334       A337      54"
            ]
          },
          "metadata": {
            "tags": []
          },
          "execution_count": 69
        }
      ]
    },
    {
      "cell_type": "code",
      "metadata": {
        "id": "nbIkqKM0_X4Y",
        "outputId": "438f772c-1c52-47f0-b21f-80a82dde361c",
        "colab": {
          "base_uri": "https://localhost:8080/",
          "height": 204
        }
      },
      "source": [
        "## Groupby Joke_identifier to Rating\n",
        "##\n",
        "jc = cam.groupby('Joke_identifier')['Rating'].count().reset_index().sort_values('Rating', ascending=False)\n",
        "jcount = jc[~(jc.Rating < 3000)]\n",
        "jcount.head()"
      ],
      "execution_count": 70,
      "outputs": [
        {
          "output_type": "execute_result",
          "data": {
            "text/html": [
              "<div>\n",
              "<style scoped>\n",
              "    .dataframe tbody tr th:only-of-type {\n",
              "        vertical-align: middle;\n",
              "    }\n",
              "\n",
              "    .dataframe tbody tr th {\n",
              "        vertical-align: top;\n",
              "    }\n",
              "\n",
              "    .dataframe thead th {\n",
              "        text-align: right;\n",
              "    }\n",
              "</style>\n",
              "<table border=\"1\" class=\"dataframe\">\n",
              "  <thead>\n",
              "    <tr style=\"text-align: right;\">\n",
              "      <th></th>\n",
              "      <th>Joke_identifier</th>\n",
              "      <th>Rating</th>\n",
              "    </tr>\n",
              "  </thead>\n",
              "  <tbody>\n",
              "    <tr>\n",
              "      <th>100</th>\n",
              "      <td>Klint De Drunk PH 2</td>\n",
              "      <td>26311</td>\n",
              "    </tr>\n",
              "    <tr>\n",
              "      <th>94</th>\n",
              "      <td>Klint De Drunk Enugu 2</td>\n",
              "      <td>26286</td>\n",
              "    </tr>\n",
              "    <tr>\n",
              "      <th>99</th>\n",
              "      <td>Klint De Drunk PH 1</td>\n",
              "      <td>26254</td>\n",
              "    </tr>\n",
              "    <tr>\n",
              "      <th>95</th>\n",
              "      <td>Klint De Drunk Enugu 3</td>\n",
              "      <td>26234</td>\n",
              "    </tr>\n",
              "    <tr>\n",
              "      <th>96</th>\n",
              "      <td>Klint De Drunk Lagos 1</td>\n",
              "      <td>25864</td>\n",
              "    </tr>\n",
              "  </tbody>\n",
              "</table>\n",
              "</div>"
            ],
            "text/plain": [
              "            Joke_identifier  Rating\n",
              "100     Klint De Drunk PH 2   26311\n",
              "94   Klint De Drunk Enugu 2   26286\n",
              "99      Klint De Drunk PH 1   26254\n",
              "95   Klint De Drunk Enugu 3   26234\n",
              "96   Klint De Drunk Lagos 1   25864"
            ]
          },
          "metadata": {
            "tags": []
          },
          "execution_count": 70
        }
      ]
    },
    {
      "cell_type": "code",
      "metadata": {
        "id": "NNtUMOmlAd4L",
        "outputId": "6dda8d15-8922-459b-ddc1-85af561c492f",
        "colab": {
          "base_uri": "https://localhost:8080/"
        }
      },
      "source": [
        "## Converting the Joke_identifier to list\n",
        "l1 = (jcount['Joke_identifier']).tolist()\n",
        "\n",
        "l2 = (vc.Viewers_ID).tolist()\n",
        "type(l1)"
      ],
      "execution_count": 72,
      "outputs": [
        {
          "output_type": "execute_result",
          "data": {
            "text/plain": [
              "list"
            ]
          },
          "metadata": {
            "tags": []
          },
          "execution_count": 72
        }
      ]
    },
    {
      "cell_type": "code",
      "metadata": {
        "id": "-gCtfgq5AUo2",
        "outputId": "927a2397-1844-4dca-b939-d6aa5a1b6457",
        "colab": {
          "base_uri": "https://localhost:8080/",
          "height": 289
        }
      },
      "source": [
        "##\n",
        "c = cam[(cam.Viewers_ID.isin(l2) & cam.Joke_identifier.isin(l1))]\n",
        "\n",
        "## Sort Rating ina descending way\n",
        "c.sort_values('Rating', ascending=False, inplace=True)\n",
        "\n",
        "## Rating greater than 1\n",
        "ccl = c[c.Rating > 1]\n",
        "ccl.head()"
      ],
      "execution_count": 73,
      "outputs": [
        {
          "output_type": "stream",
          "text": [
            "/usr/local/lib/python3.6/dist-packages/ipykernel_launcher.py:5: SettingWithCopyWarning: \n",
            "A value is trying to be set on a copy of a slice from a DataFrame\n",
            "\n",
            "See the caveats in the documentation: https://pandas.pydata.org/pandas-docs/stable/user_guide/indexing.html#returning-a-view-versus-a-copy\n",
            "  \"\"\"\n"
          ],
          "name": "stderr"
        },
        {
          "output_type": "execute_result",
          "data": {
            "text/html": [
              "<div>\n",
              "<style scoped>\n",
              "    .dataframe tbody tr th:only-of-type {\n",
              "        vertical-align: middle;\n",
              "    }\n",
              "\n",
              "    .dataframe tbody tr th {\n",
              "        vertical-align: top;\n",
              "    }\n",
              "\n",
              "    .dataframe thead th {\n",
              "        text-align: right;\n",
              "    }\n",
              "</style>\n",
              "<table border=\"1\" class=\"dataframe\">\n",
              "  <thead>\n",
              "    <tr style=\"text-align: right;\">\n",
              "      <th></th>\n",
              "      <th>Viewers_ID</th>\n",
              "      <th>Joke_identifier</th>\n",
              "      <th>Rating</th>\n",
              "    </tr>\n",
              "  </thead>\n",
              "  <tbody>\n",
              "    <tr>\n",
              "      <th>396713</th>\n",
              "      <td>A33344</td>\n",
              "      <td>Klint De Drunk Lagos 1</td>\n",
              "      <td>5.0</td>\n",
              "    </tr>\n",
              "    <tr>\n",
              "      <th>6094</th>\n",
              "      <td>A10375</td>\n",
              "      <td>Bovi Lagos 4</td>\n",
              "      <td>5.0</td>\n",
              "    </tr>\n",
              "    <tr>\n",
              "      <th>569141</th>\n",
              "      <td>A7294</td>\n",
              "      <td>Akpororo Warri 2</td>\n",
              "      <td>5.0</td>\n",
              "    </tr>\n",
              "    <tr>\n",
              "      <th>206402</th>\n",
              "      <td>A22696</td>\n",
              "      <td>Klint De Drunk PH 1</td>\n",
              "      <td>5.0</td>\n",
              "    </tr>\n",
              "    <tr>\n",
              "      <th>581005</th>\n",
              "      <td>A8093</td>\n",
              "      <td>Klint De Drunk PH 1</td>\n",
              "      <td>5.0</td>\n",
              "    </tr>\n",
              "  </tbody>\n",
              "</table>\n",
              "</div>"
            ],
            "text/plain": [
              "       Viewers_ID         Joke_identifier  Rating\n",
              "396713     A33344  Klint De Drunk Lagos 1     5.0\n",
              "6094       A10375            Bovi Lagos 4     5.0\n",
              "569141      A7294        Akpororo Warri 2     5.0\n",
              "206402     A22696     Klint De Drunk PH 1     5.0\n",
              "581005      A8093     Klint De Drunk PH 1     5.0"
            ]
          },
          "metadata": {
            "tags": []
          },
          "execution_count": 73
        }
      ]
    },
    {
      "cell_type": "code",
      "metadata": {
        "id": "FgefmwuiBHjS",
        "outputId": "1157406a-31c6-4484-8bdf-a88fe906be16",
        "colab": {
          "base_uri": "https://localhost:8080/",
          "height": 478
        }
      },
      "source": [
        "# Creating a rating matrix/pivot table with viewers on rows and joke_identifier as columns\n",
        "\n",
        "pivot_t = ccl.pivot_table(index=['Viewers_ID'],columns=['Joke_identifier'], values='Rating')\n",
        "pivot_t.head(10)"
      ],
      "execution_count": 74,
      "outputs": [
        {
          "output_type": "execute_result",
          "data": {
            "text/html": [
              "<div>\n",
              "<style scoped>\n",
              "    .dataframe tbody tr th:only-of-type {\n",
              "        vertical-align: middle;\n",
              "    }\n",
              "\n",
              "    .dataframe tbody tr th {\n",
              "        vertical-align: top;\n",
              "    }\n",
              "\n",
              "    .dataframe thead th {\n",
              "        text-align: right;\n",
              "    }\n",
              "</style>\n",
              "<table border=\"1\" class=\"dataframe\">\n",
              "  <thead>\n",
              "    <tr style=\"text-align: right;\">\n",
              "      <th>Joke_identifier</th>\n",
              "      <th>AY Abuja 1</th>\n",
              "      <th>AY Lagos 1</th>\n",
              "      <th>AY Lagos 2</th>\n",
              "      <th>AY Lagos 3</th>\n",
              "      <th>AY Lagos 4</th>\n",
              "      <th>AY Warri 1</th>\n",
              "      <th>AY Warri 2</th>\n",
              "      <th>Akpororo Abuja 1</th>\n",
              "      <th>Akpororo Abuja 2</th>\n",
              "      <th>Akpororo Abuja 3</th>\n",
              "      <th>Akpororo Abuja 4</th>\n",
              "      <th>Akpororo Lagos 1</th>\n",
              "      <th>Akpororo Lagos 4</th>\n",
              "      <th>Akpororo Warri 1</th>\n",
              "      <th>Akpororo Warri 2</th>\n",
              "      <th>Akpororo Warri 3</th>\n",
              "      <th>Akpororo Warri 4</th>\n",
              "      <th>AliBaba Abuja 1</th>\n",
              "      <th>AliBaba Abuja 2</th>\n",
              "      <th>AliBaba Abuja 3</th>\n",
              "      <th>AliBaba Aso Rock 1</th>\n",
              "      <th>AliBaba Lagos 1</th>\n",
              "      <th>AliBaba Lagos 2</th>\n",
              "      <th>AliBaba Lagos 3</th>\n",
              "      <th>AliBaba Lagos 5</th>\n",
              "      <th>AliBaba PH 2</th>\n",
              "      <th>AliBaba PH 4</th>\n",
              "      <th>AliBaba PH 5</th>\n",
              "      <th>BasketMouth Abuja 1</th>\n",
              "      <th>BasketMouth Abuja 2</th>\n",
              "      <th>BasketMouth Abuja 3</th>\n",
              "      <th>BasketMouth Lagos 1</th>\n",
              "      <th>BasketMouth Lagos 2</th>\n",
              "      <th>BasketMouth Lagos 3</th>\n",
              "      <th>BasketMouth Lagos 4</th>\n",
              "      <th>BasketMouth Owerri 2</th>\n",
              "      <th>BasketMouth Uyo 1</th>\n",
              "      <th>Bovi Abuja 1</th>\n",
              "      <th>Bovi Abuja 2</th>\n",
              "      <th>Bovi Abuja 3</th>\n",
              "      <th>Bovi Abuja 4</th>\n",
              "      <th>Bovi Abuja 5</th>\n",
              "      <th>Bovi Lagos 1</th>\n",
              "      <th>Bovi Lagos 2</th>\n",
              "      <th>Bovi Lagos 4</th>\n",
              "      <th>Bovi Warri 1</th>\n",
              "      <th>Bovi Warri 2</th>\n",
              "      <th>Bovi Warri 3</th>\n",
              "      <th>I Go Dye Abuja 1</th>\n",
              "      <th>I Go Dye Abuja 2</th>\n",
              "      <th>I Go Dye Abuja 3</th>\n",
              "      <th>I Go Dye Abuja 4</th>\n",
              "      <th>I Go Dye Benin 1</th>\n",
              "      <th>I Go Dye Benin 2</th>\n",
              "      <th>I Go Dye Benin 3</th>\n",
              "      <th>I Go Dye Lagos 1</th>\n",
              "      <th>I Go Dye Lagos 2</th>\n",
              "      <th>I Go Dye Lagos 3</th>\n",
              "      <th>I Go Dye Lagos 4</th>\n",
              "      <th>I Go Dye Uyo 1</th>\n",
              "      <th>I Go Dye Uyo 2</th>\n",
              "      <th>Klint De Drunk Enugu 2</th>\n",
              "      <th>Klint De Drunk Enugu 3</th>\n",
              "      <th>Klint De Drunk Lagos 1</th>\n",
              "      <th>Klint De Drunk Lagos 2</th>\n",
              "      <th>Klint De Drunk Lagos 3</th>\n",
              "      <th>Klint De Drunk PH 1</th>\n",
              "      <th>Klint De Drunk PH 2</th>\n",
              "      <th>Klint De Drunk Warri 1</th>\n",
              "      <th>Seyi Law Ibadan 1</th>\n",
              "      <th>Seyi Law Ibadan 2</th>\n",
              "      <th>Seyi Law Ibadan 3</th>\n",
              "      <th>Seyi Law Lagos 1</th>\n",
              "    </tr>\n",
              "    <tr>\n",
              "      <th>Viewers_ID</th>\n",
              "      <th></th>\n",
              "      <th></th>\n",
              "      <th></th>\n",
              "      <th></th>\n",
              "      <th></th>\n",
              "      <th></th>\n",
              "      <th></th>\n",
              "      <th></th>\n",
              "      <th></th>\n",
              "      <th></th>\n",
              "      <th></th>\n",
              "      <th></th>\n",
              "      <th></th>\n",
              "      <th></th>\n",
              "      <th></th>\n",
              "      <th></th>\n",
              "      <th></th>\n",
              "      <th></th>\n",
              "      <th></th>\n",
              "      <th></th>\n",
              "      <th></th>\n",
              "      <th></th>\n",
              "      <th></th>\n",
              "      <th></th>\n",
              "      <th></th>\n",
              "      <th></th>\n",
              "      <th></th>\n",
              "      <th></th>\n",
              "      <th></th>\n",
              "      <th></th>\n",
              "      <th></th>\n",
              "      <th></th>\n",
              "      <th></th>\n",
              "      <th></th>\n",
              "      <th></th>\n",
              "      <th></th>\n",
              "      <th></th>\n",
              "      <th></th>\n",
              "      <th></th>\n",
              "      <th></th>\n",
              "      <th></th>\n",
              "      <th></th>\n",
              "      <th></th>\n",
              "      <th></th>\n",
              "      <th></th>\n",
              "      <th></th>\n",
              "      <th></th>\n",
              "      <th></th>\n",
              "      <th></th>\n",
              "      <th></th>\n",
              "      <th></th>\n",
              "      <th></th>\n",
              "      <th></th>\n",
              "      <th></th>\n",
              "      <th></th>\n",
              "      <th></th>\n",
              "      <th></th>\n",
              "      <th></th>\n",
              "      <th></th>\n",
              "      <th></th>\n",
              "      <th></th>\n",
              "      <th></th>\n",
              "      <th></th>\n",
              "      <th></th>\n",
              "      <th></th>\n",
              "      <th></th>\n",
              "      <th></th>\n",
              "      <th></th>\n",
              "      <th></th>\n",
              "      <th></th>\n",
              "      <th></th>\n",
              "      <th></th>\n",
              "      <th></th>\n",
              "    </tr>\n",
              "  </thead>\n",
              "  <tbody>\n",
              "    <tr>\n",
              "      <th>A1</th>\n",
              "      <td>NaN</td>\n",
              "      <td>NaN</td>\n",
              "      <td>NaN</td>\n",
              "      <td>NaN</td>\n",
              "      <td>NaN</td>\n",
              "      <td>4.39</td>\n",
              "      <td>4.34</td>\n",
              "      <td>NaN</td>\n",
              "      <td>NaN</td>\n",
              "      <td>NaN</td>\n",
              "      <td>NaN</td>\n",
              "      <td>NaN</td>\n",
              "      <td>NaN</td>\n",
              "      <td>NaN</td>\n",
              "      <td>4.34</td>\n",
              "      <td>NaN</td>\n",
              "      <td>NaN</td>\n",
              "      <td>NaN</td>\n",
              "      <td>4.39</td>\n",
              "      <td>NaN</td>\n",
              "      <td>NaN</td>\n",
              "      <td>NaN</td>\n",
              "      <td>NaN</td>\n",
              "      <td>NaN</td>\n",
              "      <td>NaN</td>\n",
              "      <td>NaN</td>\n",
              "      <td>NaN</td>\n",
              "      <td>4.39</td>\n",
              "      <td>NaN</td>\n",
              "      <td>NaN</td>\n",
              "      <td>NaN</td>\n",
              "      <td>4.39</td>\n",
              "      <td>NaN</td>\n",
              "      <td>NaN</td>\n",
              "      <td>NaN</td>\n",
              "      <td>NaN</td>\n",
              "      <td>NaN</td>\n",
              "      <td>NaN</td>\n",
              "      <td>NaN</td>\n",
              "      <td>NaN</td>\n",
              "      <td>4.34</td>\n",
              "      <td>NaN</td>\n",
              "      <td>NaN</td>\n",
              "      <td>NaN</td>\n",
              "      <td>NaN</td>\n",
              "      <td>NaN</td>\n",
              "      <td>NaN</td>\n",
              "      <td>NaN</td>\n",
              "      <td>NaN</td>\n",
              "      <td>NaN</td>\n",
              "      <td>NaN</td>\n",
              "      <td>NaN</td>\n",
              "      <td>NaN</td>\n",
              "      <td>NaN</td>\n",
              "      <td>NaN</td>\n",
              "      <td>NaN</td>\n",
              "      <td>NaN</td>\n",
              "      <td>NaN</td>\n",
              "      <td>NaN</td>\n",
              "      <td>NaN</td>\n",
              "      <td>NaN</td>\n",
              "      <td>NaN</td>\n",
              "      <td>NaN</td>\n",
              "      <td>NaN</td>\n",
              "      <td>NaN</td>\n",
              "      <td>NaN</td>\n",
              "      <td>NaN</td>\n",
              "      <td>NaN</td>\n",
              "      <td>NaN</td>\n",
              "      <td>NaN</td>\n",
              "      <td>NaN</td>\n",
              "      <td>NaN</td>\n",
              "      <td>NaN</td>\n",
              "    </tr>\n",
              "    <tr>\n",
              "      <th>A100</th>\n",
              "      <td>NaN</td>\n",
              "      <td>3.09</td>\n",
              "      <td>NaN</td>\n",
              "      <td>4.45</td>\n",
              "      <td>2.09</td>\n",
              "      <td>NaN</td>\n",
              "      <td>3.33</td>\n",
              "      <td>NaN</td>\n",
              "      <td>1.31</td>\n",
              "      <td>NaN</td>\n",
              "      <td>NaN</td>\n",
              "      <td>3.58</td>\n",
              "      <td>NaN</td>\n",
              "      <td>2.09</td>\n",
              "      <td>1.58</td>\n",
              "      <td>1.66</td>\n",
              "      <td>1.41</td>\n",
              "      <td>2.91</td>\n",
              "      <td>4.41</td>\n",
              "      <td>NaN</td>\n",
              "      <td>2.53</td>\n",
              "      <td>NaN</td>\n",
              "      <td>NaN</td>\n",
              "      <td>NaN</td>\n",
              "      <td>NaN</td>\n",
              "      <td>1.66</td>\n",
              "      <td>NaN</td>\n",
              "      <td>NaN</td>\n",
              "      <td>NaN</td>\n",
              "      <td>NaN</td>\n",
              "      <td>NaN</td>\n",
              "      <td>3.86</td>\n",
              "      <td>NaN</td>\n",
              "      <td>1.06</td>\n",
              "      <td>1.38</td>\n",
              "      <td>NaN</td>\n",
              "      <td>NaN</td>\n",
              "      <td>NaN</td>\n",
              "      <td>NaN</td>\n",
              "      <td>NaN</td>\n",
              "      <td>NaN</td>\n",
              "      <td>NaN</td>\n",
              "      <td>NaN</td>\n",
              "      <td>NaN</td>\n",
              "      <td>NaN</td>\n",
              "      <td>NaN</td>\n",
              "      <td>2.61</td>\n",
              "      <td>NaN</td>\n",
              "      <td>NaN</td>\n",
              "      <td>NaN</td>\n",
              "      <td>NaN</td>\n",
              "      <td>NaN</td>\n",
              "      <td>NaN</td>\n",
              "      <td>NaN</td>\n",
              "      <td>NaN</td>\n",
              "      <td>1.94</td>\n",
              "      <td>2.45</td>\n",
              "      <td>NaN</td>\n",
              "      <td>NaN</td>\n",
              "      <td>NaN</td>\n",
              "      <td>NaN</td>\n",
              "      <td>NaN</td>\n",
              "      <td>NaN</td>\n",
              "      <td>1.02</td>\n",
              "      <td>NaN</td>\n",
              "      <td>NaN</td>\n",
              "      <td>NaN</td>\n",
              "      <td>NaN</td>\n",
              "      <td>NaN</td>\n",
              "      <td>NaN</td>\n",
              "      <td>NaN</td>\n",
              "      <td>NaN</td>\n",
              "      <td>NaN</td>\n",
              "    </tr>\n",
              "    <tr>\n",
              "      <th>A1000</th>\n",
              "      <td>1.47</td>\n",
              "      <td>NaN</td>\n",
              "      <td>1.58</td>\n",
              "      <td>NaN</td>\n",
              "      <td>NaN</td>\n",
              "      <td>NaN</td>\n",
              "      <td>NaN</td>\n",
              "      <td>NaN</td>\n",
              "      <td>NaN</td>\n",
              "      <td>NaN</td>\n",
              "      <td>NaN</td>\n",
              "      <td>1.52</td>\n",
              "      <td>NaN</td>\n",
              "      <td>NaN</td>\n",
              "      <td>NaN</td>\n",
              "      <td>NaN</td>\n",
              "      <td>NaN</td>\n",
              "      <td>2.89</td>\n",
              "      <td>1.06</td>\n",
              "      <td>NaN</td>\n",
              "      <td>NaN</td>\n",
              "      <td>NaN</td>\n",
              "      <td>NaN</td>\n",
              "      <td>NaN</td>\n",
              "      <td>NaN</td>\n",
              "      <td>NaN</td>\n",
              "      <td>NaN</td>\n",
              "      <td>4.20</td>\n",
              "      <td>NaN</td>\n",
              "      <td>NaN</td>\n",
              "      <td>NaN</td>\n",
              "      <td>NaN</td>\n",
              "      <td>NaN</td>\n",
              "      <td>NaN</td>\n",
              "      <td>NaN</td>\n",
              "      <td>NaN</td>\n",
              "      <td>NaN</td>\n",
              "      <td>NaN</td>\n",
              "      <td>NaN</td>\n",
              "      <td>NaN</td>\n",
              "      <td>NaN</td>\n",
              "      <td>1.22</td>\n",
              "      <td>NaN</td>\n",
              "      <td>NaN</td>\n",
              "      <td>NaN</td>\n",
              "      <td>NaN</td>\n",
              "      <td>1.44</td>\n",
              "      <td>NaN</td>\n",
              "      <td>NaN</td>\n",
              "      <td>NaN</td>\n",
              "      <td>NaN</td>\n",
              "      <td>NaN</td>\n",
              "      <td>1.81</td>\n",
              "      <td>NaN</td>\n",
              "      <td>NaN</td>\n",
              "      <td>NaN</td>\n",
              "      <td>NaN</td>\n",
              "      <td>NaN</td>\n",
              "      <td>2.39</td>\n",
              "      <td>NaN</td>\n",
              "      <td>NaN</td>\n",
              "      <td>NaN</td>\n",
              "      <td>NaN</td>\n",
              "      <td>NaN</td>\n",
              "      <td>NaN</td>\n",
              "      <td>NaN</td>\n",
              "      <td>NaN</td>\n",
              "      <td>NaN</td>\n",
              "      <td>NaN</td>\n",
              "      <td>NaN</td>\n",
              "      <td>NaN</td>\n",
              "      <td>NaN</td>\n",
              "      <td>NaN</td>\n",
              "    </tr>\n",
              "    <tr>\n",
              "      <th>A10003</th>\n",
              "      <td>NaN</td>\n",
              "      <td>NaN</td>\n",
              "      <td>NaN</td>\n",
              "      <td>NaN</td>\n",
              "      <td>NaN</td>\n",
              "      <td>NaN</td>\n",
              "      <td>NaN</td>\n",
              "      <td>NaN</td>\n",
              "      <td>NaN</td>\n",
              "      <td>NaN</td>\n",
              "      <td>NaN</td>\n",
              "      <td>NaN</td>\n",
              "      <td>NaN</td>\n",
              "      <td>NaN</td>\n",
              "      <td>NaN</td>\n",
              "      <td>NaN</td>\n",
              "      <td>NaN</td>\n",
              "      <td>NaN</td>\n",
              "      <td>NaN</td>\n",
              "      <td>NaN</td>\n",
              "      <td>NaN</td>\n",
              "      <td>NaN</td>\n",
              "      <td>NaN</td>\n",
              "      <td>NaN</td>\n",
              "      <td>NaN</td>\n",
              "      <td>2.47</td>\n",
              "      <td>NaN</td>\n",
              "      <td>NaN</td>\n",
              "      <td>NaN</td>\n",
              "      <td>NaN</td>\n",
              "      <td>NaN</td>\n",
              "      <td>2.28</td>\n",
              "      <td>NaN</td>\n",
              "      <td>NaN</td>\n",
              "      <td>NaN</td>\n",
              "      <td>NaN</td>\n",
              "      <td>NaN</td>\n",
              "      <td>NaN</td>\n",
              "      <td>NaN</td>\n",
              "      <td>NaN</td>\n",
              "      <td>NaN</td>\n",
              "      <td>NaN</td>\n",
              "      <td>NaN</td>\n",
              "      <td>NaN</td>\n",
              "      <td>NaN</td>\n",
              "      <td>NaN</td>\n",
              "      <td>NaN</td>\n",
              "      <td>NaN</td>\n",
              "      <td>NaN</td>\n",
              "      <td>NaN</td>\n",
              "      <td>NaN</td>\n",
              "      <td>NaN</td>\n",
              "      <td>NaN</td>\n",
              "      <td>NaN</td>\n",
              "      <td>NaN</td>\n",
              "      <td>NaN</td>\n",
              "      <td>NaN</td>\n",
              "      <td>NaN</td>\n",
              "      <td>NaN</td>\n",
              "      <td>NaN</td>\n",
              "      <td>1.88</td>\n",
              "      <td>NaN</td>\n",
              "      <td>NaN</td>\n",
              "      <td>NaN</td>\n",
              "      <td>NaN</td>\n",
              "      <td>1.75</td>\n",
              "      <td>NaN</td>\n",
              "      <td>NaN</td>\n",
              "      <td>2.47</td>\n",
              "      <td>NaN</td>\n",
              "      <td>NaN</td>\n",
              "      <td>NaN</td>\n",
              "      <td>NaN</td>\n",
              "    </tr>\n",
              "    <tr>\n",
              "      <th>A10008</th>\n",
              "      <td>NaN</td>\n",
              "      <td>NaN</td>\n",
              "      <td>NaN</td>\n",
              "      <td>NaN</td>\n",
              "      <td>NaN</td>\n",
              "      <td>NaN</td>\n",
              "      <td>NaN</td>\n",
              "      <td>NaN</td>\n",
              "      <td>NaN</td>\n",
              "      <td>NaN</td>\n",
              "      <td>NaN</td>\n",
              "      <td>NaN</td>\n",
              "      <td>NaN</td>\n",
              "      <td>NaN</td>\n",
              "      <td>NaN</td>\n",
              "      <td>NaN</td>\n",
              "      <td>NaN</td>\n",
              "      <td>NaN</td>\n",
              "      <td>NaN</td>\n",
              "      <td>NaN</td>\n",
              "      <td>NaN</td>\n",
              "      <td>NaN</td>\n",
              "      <td>NaN</td>\n",
              "      <td>NaN</td>\n",
              "      <td>NaN</td>\n",
              "      <td>NaN</td>\n",
              "      <td>NaN</td>\n",
              "      <td>NaN</td>\n",
              "      <td>NaN</td>\n",
              "      <td>NaN</td>\n",
              "      <td>NaN</td>\n",
              "      <td>NaN</td>\n",
              "      <td>NaN</td>\n",
              "      <td>NaN</td>\n",
              "      <td>NaN</td>\n",
              "      <td>NaN</td>\n",
              "      <td>NaN</td>\n",
              "      <td>NaN</td>\n",
              "      <td>NaN</td>\n",
              "      <td>NaN</td>\n",
              "      <td>NaN</td>\n",
              "      <td>NaN</td>\n",
              "      <td>NaN</td>\n",
              "      <td>NaN</td>\n",
              "      <td>NaN</td>\n",
              "      <td>NaN</td>\n",
              "      <td>NaN</td>\n",
              "      <td>NaN</td>\n",
              "      <td>NaN</td>\n",
              "      <td>NaN</td>\n",
              "      <td>NaN</td>\n",
              "      <td>NaN</td>\n",
              "      <td>NaN</td>\n",
              "      <td>NaN</td>\n",
              "      <td>NaN</td>\n",
              "      <td>NaN</td>\n",
              "      <td>NaN</td>\n",
              "      <td>NaN</td>\n",
              "      <td>NaN</td>\n",
              "      <td>NaN</td>\n",
              "      <td>NaN</td>\n",
              "      <td>NaN</td>\n",
              "      <td>NaN</td>\n",
              "      <td>2.78</td>\n",
              "      <td>2.69</td>\n",
              "      <td>NaN</td>\n",
              "      <td>NaN</td>\n",
              "      <td>NaN</td>\n",
              "      <td>NaN</td>\n",
              "      <td>NaN</td>\n",
              "      <td>NaN</td>\n",
              "      <td>NaN</td>\n",
              "      <td>NaN</td>\n",
              "    </tr>\n",
              "    <tr>\n",
              "      <th>A1001</th>\n",
              "      <td>NaN</td>\n",
              "      <td>NaN</td>\n",
              "      <td>2.94</td>\n",
              "      <td>NaN</td>\n",
              "      <td>1.95</td>\n",
              "      <td>4.09</td>\n",
              "      <td>NaN</td>\n",
              "      <td>NaN</td>\n",
              "      <td>NaN</td>\n",
              "      <td>1.11</td>\n",
              "      <td>3.63</td>\n",
              "      <td>NaN</td>\n",
              "      <td>NaN</td>\n",
              "      <td>NaN</td>\n",
              "      <td>NaN</td>\n",
              "      <td>4.19</td>\n",
              "      <td>NaN</td>\n",
              "      <td>NaN</td>\n",
              "      <td>4.25</td>\n",
              "      <td>3.28</td>\n",
              "      <td>1.84</td>\n",
              "      <td>1.77</td>\n",
              "      <td>3.42</td>\n",
              "      <td>4.56</td>\n",
              "      <td>2.0</td>\n",
              "      <td>NaN</td>\n",
              "      <td>4.52</td>\n",
              "      <td>NaN</td>\n",
              "      <td>NaN</td>\n",
              "      <td>1.34</td>\n",
              "      <td>2.47</td>\n",
              "      <td>3.70</td>\n",
              "      <td>NaN</td>\n",
              "      <td>NaN</td>\n",
              "      <td>3.83</td>\n",
              "      <td>NaN</td>\n",
              "      <td>NaN</td>\n",
              "      <td>3.81</td>\n",
              "      <td>NaN</td>\n",
              "      <td>3.31</td>\n",
              "      <td>2.05</td>\n",
              "      <td>NaN</td>\n",
              "      <td>2.06</td>\n",
              "      <td>NaN</td>\n",
              "      <td>4.55</td>\n",
              "      <td>3.31</td>\n",
              "      <td>NaN</td>\n",
              "      <td>NaN</td>\n",
              "      <td>NaN</td>\n",
              "      <td>1.16</td>\n",
              "      <td>1.50</td>\n",
              "      <td>NaN</td>\n",
              "      <td>NaN</td>\n",
              "      <td>2.06</td>\n",
              "      <td>NaN</td>\n",
              "      <td>2.36</td>\n",
              "      <td>3.69</td>\n",
              "      <td>3.45</td>\n",
              "      <td>4.45</td>\n",
              "      <td>3.92</td>\n",
              "      <td>3.25</td>\n",
              "      <td>3.13</td>\n",
              "      <td>1.3</td>\n",
              "      <td>NaN</td>\n",
              "      <td>NaN</td>\n",
              "      <td>4.20</td>\n",
              "      <td>2.25</td>\n",
              "      <td>NaN</td>\n",
              "      <td>2.11</td>\n",
              "      <td>NaN</td>\n",
              "      <td>NaN</td>\n",
              "      <td>NaN</td>\n",
              "      <td>NaN</td>\n",
              "    </tr>\n",
              "    <tr>\n",
              "      <th>A10016</th>\n",
              "      <td>NaN</td>\n",
              "      <td>NaN</td>\n",
              "      <td>2.08</td>\n",
              "      <td>NaN</td>\n",
              "      <td>4.75</td>\n",
              "      <td>NaN</td>\n",
              "      <td>NaN</td>\n",
              "      <td>4.44</td>\n",
              "      <td>NaN</td>\n",
              "      <td>1.97</td>\n",
              "      <td>NaN</td>\n",
              "      <td>NaN</td>\n",
              "      <td>NaN</td>\n",
              "      <td>NaN</td>\n",
              "      <td>NaN</td>\n",
              "      <td>2.33</td>\n",
              "      <td>NaN</td>\n",
              "      <td>NaN</td>\n",
              "      <td>NaN</td>\n",
              "      <td>NaN</td>\n",
              "      <td>2.91</td>\n",
              "      <td>NaN</td>\n",
              "      <td>NaN</td>\n",
              "      <td>NaN</td>\n",
              "      <td>NaN</td>\n",
              "      <td>NaN</td>\n",
              "      <td>NaN</td>\n",
              "      <td>4.77</td>\n",
              "      <td>NaN</td>\n",
              "      <td>NaN</td>\n",
              "      <td>1.11</td>\n",
              "      <td>NaN</td>\n",
              "      <td>NaN</td>\n",
              "      <td>NaN</td>\n",
              "      <td>2.02</td>\n",
              "      <td>NaN</td>\n",
              "      <td>NaN</td>\n",
              "      <td>NaN</td>\n",
              "      <td>NaN</td>\n",
              "      <td>NaN</td>\n",
              "      <td>4.97</td>\n",
              "      <td>NaN</td>\n",
              "      <td>NaN</td>\n",
              "      <td>NaN</td>\n",
              "      <td>NaN</td>\n",
              "      <td>NaN</td>\n",
              "      <td>4.94</td>\n",
              "      <td>NaN</td>\n",
              "      <td>NaN</td>\n",
              "      <td>NaN</td>\n",
              "      <td>1.81</td>\n",
              "      <td>1.95</td>\n",
              "      <td>NaN</td>\n",
              "      <td>NaN</td>\n",
              "      <td>4.58</td>\n",
              "      <td>NaN</td>\n",
              "      <td>NaN</td>\n",
              "      <td>NaN</td>\n",
              "      <td>4.80</td>\n",
              "      <td>2.08</td>\n",
              "      <td>NaN</td>\n",
              "      <td>NaN</td>\n",
              "      <td>3.0</td>\n",
              "      <td>NaN</td>\n",
              "      <td>NaN</td>\n",
              "      <td>1.16</td>\n",
              "      <td>NaN</td>\n",
              "      <td>NaN</td>\n",
              "      <td>3.03</td>\n",
              "      <td>NaN</td>\n",
              "      <td>NaN</td>\n",
              "      <td>NaN</td>\n",
              "      <td>NaN</td>\n",
              "    </tr>\n",
              "    <tr>\n",
              "      <th>A10019</th>\n",
              "      <td>NaN</td>\n",
              "      <td>NaN</td>\n",
              "      <td>NaN</td>\n",
              "      <td>NaN</td>\n",
              "      <td>3.78</td>\n",
              "      <td>3.69</td>\n",
              "      <td>NaN</td>\n",
              "      <td>4.88</td>\n",
              "      <td>NaN</td>\n",
              "      <td>NaN</td>\n",
              "      <td>NaN</td>\n",
              "      <td>NaN</td>\n",
              "      <td>NaN</td>\n",
              "      <td>NaN</td>\n",
              "      <td>4.08</td>\n",
              "      <td>NaN</td>\n",
              "      <td>NaN</td>\n",
              "      <td>1.02</td>\n",
              "      <td>NaN</td>\n",
              "      <td>NaN</td>\n",
              "      <td>NaN</td>\n",
              "      <td>4.17</td>\n",
              "      <td>NaN</td>\n",
              "      <td>NaN</td>\n",
              "      <td>NaN</td>\n",
              "      <td>NaN</td>\n",
              "      <td>NaN</td>\n",
              "      <td>4.97</td>\n",
              "      <td>NaN</td>\n",
              "      <td>NaN</td>\n",
              "      <td>NaN</td>\n",
              "      <td>NaN</td>\n",
              "      <td>NaN</td>\n",
              "      <td>NaN</td>\n",
              "      <td>NaN</td>\n",
              "      <td>NaN</td>\n",
              "      <td>NaN</td>\n",
              "      <td>NaN</td>\n",
              "      <td>NaN</td>\n",
              "      <td>NaN</td>\n",
              "      <td>NaN</td>\n",
              "      <td>NaN</td>\n",
              "      <td>NaN</td>\n",
              "      <td>NaN</td>\n",
              "      <td>4.95</td>\n",
              "      <td>NaN</td>\n",
              "      <td>NaN</td>\n",
              "      <td>NaN</td>\n",
              "      <td>NaN</td>\n",
              "      <td>NaN</td>\n",
              "      <td>1.61</td>\n",
              "      <td>NaN</td>\n",
              "      <td>NaN</td>\n",
              "      <td>NaN</td>\n",
              "      <td>NaN</td>\n",
              "      <td>2.59</td>\n",
              "      <td>NaN</td>\n",
              "      <td>2.16</td>\n",
              "      <td>NaN</td>\n",
              "      <td>NaN</td>\n",
              "      <td>NaN</td>\n",
              "      <td>NaN</td>\n",
              "      <td>NaN</td>\n",
              "      <td>NaN</td>\n",
              "      <td>4.95</td>\n",
              "      <td>NaN</td>\n",
              "      <td>NaN</td>\n",
              "      <td>NaN</td>\n",
              "      <td>4.88</td>\n",
              "      <td>NaN</td>\n",
              "      <td>NaN</td>\n",
              "      <td>NaN</td>\n",
              "      <td>NaN</td>\n",
              "    </tr>\n",
              "    <tr>\n",
              "      <th>A10020</th>\n",
              "      <td>NaN</td>\n",
              "      <td>1.66</td>\n",
              "      <td>NaN</td>\n",
              "      <td>NaN</td>\n",
              "      <td>1.03</td>\n",
              "      <td>NaN</td>\n",
              "      <td>2.80</td>\n",
              "      <td>NaN</td>\n",
              "      <td>NaN</td>\n",
              "      <td>NaN</td>\n",
              "      <td>NaN</td>\n",
              "      <td>NaN</td>\n",
              "      <td>NaN</td>\n",
              "      <td>NaN</td>\n",
              "      <td>NaN</td>\n",
              "      <td>NaN</td>\n",
              "      <td>NaN</td>\n",
              "      <td>NaN</td>\n",
              "      <td>NaN</td>\n",
              "      <td>NaN</td>\n",
              "      <td>NaN</td>\n",
              "      <td>NaN</td>\n",
              "      <td>NaN</td>\n",
              "      <td>NaN</td>\n",
              "      <td>NaN</td>\n",
              "      <td>2.42</td>\n",
              "      <td>NaN</td>\n",
              "      <td>NaN</td>\n",
              "      <td>NaN</td>\n",
              "      <td>NaN</td>\n",
              "      <td>NaN</td>\n",
              "      <td>NaN</td>\n",
              "      <td>NaN</td>\n",
              "      <td>1.58</td>\n",
              "      <td>NaN</td>\n",
              "      <td>NaN</td>\n",
              "      <td>NaN</td>\n",
              "      <td>NaN</td>\n",
              "      <td>NaN</td>\n",
              "      <td>NaN</td>\n",
              "      <td>NaN</td>\n",
              "      <td>NaN</td>\n",
              "      <td>NaN</td>\n",
              "      <td>NaN</td>\n",
              "      <td>NaN</td>\n",
              "      <td>NaN</td>\n",
              "      <td>NaN</td>\n",
              "      <td>1.44</td>\n",
              "      <td>NaN</td>\n",
              "      <td>NaN</td>\n",
              "      <td>2.61</td>\n",
              "      <td>2.36</td>\n",
              "      <td>NaN</td>\n",
              "      <td>NaN</td>\n",
              "      <td>NaN</td>\n",
              "      <td>1.61</td>\n",
              "      <td>NaN</td>\n",
              "      <td>4.03</td>\n",
              "      <td>NaN</td>\n",
              "      <td>2.64</td>\n",
              "      <td>3.31</td>\n",
              "      <td>NaN</td>\n",
              "      <td>NaN</td>\n",
              "      <td>NaN</td>\n",
              "      <td>NaN</td>\n",
              "      <td>NaN</td>\n",
              "      <td>NaN</td>\n",
              "      <td>NaN</td>\n",
              "      <td>2.34</td>\n",
              "      <td>NaN</td>\n",
              "      <td>NaN</td>\n",
              "      <td>NaN</td>\n",
              "      <td>NaN</td>\n",
              "    </tr>\n",
              "    <tr>\n",
              "      <th>A10021</th>\n",
              "      <td>NaN</td>\n",
              "      <td>NaN</td>\n",
              "      <td>3.50</td>\n",
              "      <td>NaN</td>\n",
              "      <td>NaN</td>\n",
              "      <td>2.02</td>\n",
              "      <td>3.45</td>\n",
              "      <td>1.02</td>\n",
              "      <td>NaN</td>\n",
              "      <td>NaN</td>\n",
              "      <td>NaN</td>\n",
              "      <td>3.52</td>\n",
              "      <td>NaN</td>\n",
              "      <td>NaN</td>\n",
              "      <td>NaN</td>\n",
              "      <td>NaN</td>\n",
              "      <td>NaN</td>\n",
              "      <td>NaN</td>\n",
              "      <td>NaN</td>\n",
              "      <td>NaN</td>\n",
              "      <td>NaN</td>\n",
              "      <td>NaN</td>\n",
              "      <td>NaN</td>\n",
              "      <td>NaN</td>\n",
              "      <td>NaN</td>\n",
              "      <td>NaN</td>\n",
              "      <td>NaN</td>\n",
              "      <td>4.95</td>\n",
              "      <td>NaN</td>\n",
              "      <td>NaN</td>\n",
              "      <td>NaN</td>\n",
              "      <td>NaN</td>\n",
              "      <td>NaN</td>\n",
              "      <td>2.63</td>\n",
              "      <td>NaN</td>\n",
              "      <td>NaN</td>\n",
              "      <td>NaN</td>\n",
              "      <td>NaN</td>\n",
              "      <td>NaN</td>\n",
              "      <td>NaN</td>\n",
              "      <td>NaN</td>\n",
              "      <td>NaN</td>\n",
              "      <td>NaN</td>\n",
              "      <td>NaN</td>\n",
              "      <td>NaN</td>\n",
              "      <td>NaN</td>\n",
              "      <td>NaN</td>\n",
              "      <td>NaN</td>\n",
              "      <td>NaN</td>\n",
              "      <td>NaN</td>\n",
              "      <td>NaN</td>\n",
              "      <td>NaN</td>\n",
              "      <td>NaN</td>\n",
              "      <td>NaN</td>\n",
              "      <td>NaN</td>\n",
              "      <td>4.42</td>\n",
              "      <td>NaN</td>\n",
              "      <td>NaN</td>\n",
              "      <td>NaN</td>\n",
              "      <td>NaN</td>\n",
              "      <td>NaN</td>\n",
              "      <td>NaN</td>\n",
              "      <td>NaN</td>\n",
              "      <td>NaN</td>\n",
              "      <td>2.70</td>\n",
              "      <td>NaN</td>\n",
              "      <td>NaN</td>\n",
              "      <td>NaN</td>\n",
              "      <td>NaN</td>\n",
              "      <td>NaN</td>\n",
              "      <td>NaN</td>\n",
              "      <td>NaN</td>\n",
              "      <td>NaN</td>\n",
              "    </tr>\n",
              "  </tbody>\n",
              "</table>\n",
              "</div>"
            ],
            "text/plain": [
              "Joke_identifier  AY Abuja 1  AY Lagos 1  ...  Seyi Law Ibadan 3  Seyi Law Lagos 1\n",
              "Viewers_ID                               ...                                     \n",
              "A1                      NaN         NaN  ...                NaN               NaN\n",
              "A100                    NaN        3.09  ...                NaN               NaN\n",
              "A1000                  1.47         NaN  ...                NaN               NaN\n",
              "A10003                  NaN         NaN  ...                NaN               NaN\n",
              "A10008                  NaN         NaN  ...                NaN               NaN\n",
              "A1001                   NaN         NaN  ...                NaN               NaN\n",
              "A10016                  NaN         NaN  ...                NaN               NaN\n",
              "A10019                  NaN         NaN  ...                NaN               NaN\n",
              "A10020                  NaN        1.66  ...                NaN               NaN\n",
              "A10021                  NaN         NaN  ...                NaN               NaN\n",
              "\n",
              "[10 rows x 73 columns]"
            ]
          },
          "metadata": {
            "tags": []
          },
          "execution_count": 74
        }
      ]
    },
    {
      "cell_type": "markdown",
      "metadata": {
        "id": "4TWWcmrmTfBe"
      },
      "source": [
        "## Surprise \n",
        "\n",
        "## Collaborative Filtering using SVD(Singular Value Decomposition)\n",
        "\n",
        "SVD is a matrix decomposition method for reducing a matrix to its constituent parts in order to make certain subsequent matrix calculations simpler.\n",
        "\n",
        "Its main purpose is to reduce a dataset containing a large number of values to a dataset containing significantly fewer values, but still contains a large fraction of variability present in the original Data."
      ]
    },
    {
      "cell_type": "code",
      "metadata": {
        "id": "maaNv-6yDqjG",
        "outputId": "dc0e8eea-fdfa-4424-9133-3bcb7e7269ba",
        "colab": {
          "base_uri": "https://localhost:8080/"
        }
      },
      "source": [
        "!pip install evaluate\n",
        "import evaluate"
      ],
      "execution_count": 117,
      "outputs": [
        {
          "output_type": "stream",
          "text": [
            "Requirement already satisfied: evaluate in /usr/local/lib/python3.6/dist-packages (0.0.3)\n",
            "Requirement already satisfied: xgboost in /usr/local/lib/python3.6/dist-packages (from evaluate) (0.90)\n",
            "Requirement already satisfied: scikit-learn in /usr/local/lib/python3.6/dist-packages (from evaluate) (0.22.2.post1)\n",
            "Requirement already satisfied: pandas in /usr/local/lib/python3.6/dist-packages (from evaluate) (1.1.4)\n",
            "Requirement already satisfied: lightgbm in /usr/local/lib/python3.6/dist-packages (from evaluate) (2.2.3)\n",
            "Requirement already satisfied: scipy in /usr/local/lib/python3.6/dist-packages (from xgboost->evaluate) (1.4.1)\n",
            "Requirement already satisfied: numpy in /usr/local/lib/python3.6/dist-packages (from xgboost->evaluate) (1.18.5)\n",
            "Requirement already satisfied: joblib>=0.11 in /usr/local/lib/python3.6/dist-packages (from scikit-learn->evaluate) (0.17.0)\n",
            "Requirement already satisfied: python-dateutil>=2.7.3 in /usr/local/lib/python3.6/dist-packages (from pandas->evaluate) (2.8.1)\n",
            "Requirement already satisfied: pytz>=2017.2 in /usr/local/lib/python3.6/dist-packages (from pandas->evaluate) (2018.9)\n",
            "Requirement already satisfied: six>=1.5 in /usr/local/lib/python3.6/dist-packages (from python-dateutil>=2.7.3->pandas->evaluate) (1.15.0)\n"
          ],
          "name": "stdout"
        }
      ]
    },
    {
      "cell_type": "code",
      "metadata": {
        "id": "Tsy3R5jBKZYT"
      },
      "source": [
        "## Imports\n",
        "from surprise import KNNBasic, BaselineOnly\n",
        "from surprise.model_selection import cross_validate"
      ],
      "execution_count": 101,
      "outputs": []
    },
    {
      "cell_type": "code",
      "metadata": {
        "id": "79T-NorFVr-Y"
      },
      "source": [
        "## Import Reader, Dataset, SVD, and Accuracy from  Surprise\n",
        "from surprise import Reader, Dataset, SVD, accuracy\n",
        "reader = Reader(rating_scale=(1,5))"
      ],
      "execution_count": 119,
      "outputs": []
    },
    {
      "cell_type": "code",
      "metadata": {
        "id": "pP_But43KMg-"
      },
      "source": [
        "## Define the BaselineOnly\n",
        "## BaselineOnly - prediction algorithm provides a set of predictions that you can evaluate as you would any predictions for your problem \n",
        "## such as classification accuracy or RMSE.\n",
        "clf = BaselineOnly()"
      ],
      "execution_count": 102,
      "outputs": []
    },
    {
      "cell_type": "code",
      "metadata": {
        "id": "WcxISXs5Dwve"
      },
      "source": [
        "##  Loading the dataset\n",
        "data = Dataset.load_from_df(ccl, reader)\n",
        "# data.split(n_folds=5)"
      ],
      "execution_count": 135,
      "outputs": []
    },
    {
      "cell_type": "code",
      "metadata": {
        "id": "H6wMpKTlFQVd",
        "outputId": "3c99be8d-861d-4622-943e-3f5c33ab13d6",
        "colab": {
          "base_uri": "https://localhost:8080/"
        }
      },
      "source": [
        "##\n",
        "algo = SVD()\n",
        "trainset = data.build_full_trainset()\n",
        "algo.fit(trainset)\n",
        "\n",
        "\n",
        "# svd is used to obtain minimal RMSE"
      ],
      "execution_count": 111,
      "outputs": [
        {
          "output_type": "execute_result",
          "data": {
            "text/plain": [
              "<surprise.prediction_algorithms.matrix_factorization.SVD at 0x7f98dc689b38>"
            ]
          },
          "metadata": {
            "tags": []
          },
          "execution_count": 111
        }
      ]
    },
    {
      "cell_type": "code",
      "metadata": {
        "id": "Hga-iopZFt3W",
        "outputId": "32b83dc4-4d00-4740-ef32-6686191dbebd",
        "colab": {
          "base_uri": "https://localhost:8080/"
        }
      },
      "source": [
        "## Predicting RMSE and MAE\n",
        "cross_validate(algo, data, measures=['RMSE', 'MAE'], cv=5, verbose=True)"
      ],
      "execution_count": 121,
      "outputs": [
        {
          "output_type": "stream",
          "text": [
            "Evaluating RMSE, MAE of algorithm SVD on 5 split(s).\n",
            "\n",
            "                  Fold 1  Fold 2  Fold 3  Fold 4  Fold 5  Mean    Std     \n",
            "RMSE (testset)    0.9626  0.9630  0.9597  0.9614  0.9551  0.9604  0.0029  \n",
            "MAE (testset)     0.7761  0.7762  0.7726  0.7748  0.7685  0.7737  0.0029  \n",
            "Fit time          11.97   11.91   11.93   11.93   11.92   11.93   0.02    \n",
            "Test time         0.36    0.40    0.37    0.36    0.36    0.37    0.01    \n"
          ],
          "name": "stdout"
        },
        {
          "output_type": "execute_result",
          "data": {
            "text/plain": [
              "{'fit_time': (11.967619180679321,\n",
              "  11.913646459579468,\n",
              "  11.932990312576294,\n",
              "  11.933223485946655,\n",
              "  11.924042701721191),\n",
              " 'test_mae': array([0.77614562, 0.77619825, 0.77263375, 0.77483731, 0.76848218]),\n",
              " 'test_rmse': array([0.96257349, 0.96302539, 0.95972709, 0.96142139, 0.95513964]),\n",
              " 'test_time': (0.35980701446533203,\n",
              "  0.3983180522918701,\n",
              "  0.37494897842407227,\n",
              "  0.3629000186920166,\n",
              "  0.3631412982940674)}"
            ]
          },
          "metadata": {
            "tags": []
          },
          "execution_count": 121
        }
      ]
    },
    {
      "cell_type": "markdown",
      "metadata": {
        "id": "ePUbvRKxTu1H"
      },
      "source": [
        "Root Mean Square Error is one of the metrics that can be used to gauge the accuracy of prediction\n",
        "\n",
        "The lower the RMSE the more accurate the model.\n",
        "\n",
        "\n",
        "The preferred RMSE values are normally below 1\n",
        "\n",
        "\n",
        "Our average RMSE is 0.96, which is okay."
      ]
    },
    {
      "cell_type": "code",
      "metadata": {
        "id": "ZcA4yU1lKSqz",
        "outputId": "186279f7-5e05-40a2-95b8-ba4c3959b63f",
        "colab": {
          "base_uri": "https://localhost:8080/"
        }
      },
      "source": [
        "## Getting the Mean Absolute Error  3 cv\n",
        "cross_validate(clf, data, measures=['MAE'], cv=3, verbose=True)"
      ],
      "execution_count": 105,
      "outputs": [
        {
          "output_type": "stream",
          "text": [
            "Estimating biases using als...\n",
            "Estimating biases using als...\n",
            "Estimating biases using als...\n",
            "Evaluating MAE of algorithm BaselineOnly on 3 split(s).\n",
            "\n",
            "                  Fold 1  Fold 2  Fold 3  Mean    Std     \n",
            "MAE (testset)     0.8677  0.8667  0.8659  0.8668  0.0007  \n",
            "Fit time          0.88    0.96    1.00    0.94    0.05    \n",
            "Test time         0.65    0.82    0.62    0.70    0.09    \n"
          ],
          "name": "stdout"
        },
        {
          "output_type": "execute_result",
          "data": {
            "text/plain": [
              "{'fit_time': (0.8810110092163086, 0.9567489624023438, 0.9968123435974121),\n",
              " 'test_mae': array([0.86773696, 0.86668474, 0.86592578]),\n",
              " 'test_time': (0.6457796096801758, 0.8227880001068115, 0.6218159198760986)}"
            ]
          },
          "metadata": {
            "tags": []
          },
          "execution_count": 105
        }
      ]
    },
    {
      "cell_type": "markdown",
      "metadata": {
        "id": "68_5BkVlL1d9"
      },
      "source": [
        "On average, the prediction shows a mean absolute error (MAE) of 0.867, this shows that the model is doing good prediction."
      ]
    },
    {
      "cell_type": "code",
      "metadata": {
        "id": "4opHDfOcOT9c",
        "outputId": "9bb4f468-1d6c-4958-94de-f716c3583f0d",
        "colab": {
          "base_uri": "https://localhost:8080/"
        }
      },
      "source": [
        "## Getting the Mean ABsolute Error for 5 cv\n",
        "cross_validate(clf, data, measures=['MAE'], cv=5, verbose=True)"
      ],
      "execution_count": 122,
      "outputs": [
        {
          "output_type": "stream",
          "text": [
            "Estimating biases using als...\n",
            "Estimating biases using als...\n",
            "Estimating biases using als...\n",
            "Estimating biases using als...\n",
            "Estimating biases using als...\n",
            "Evaluating MAE of algorithm BaselineOnly on 5 split(s).\n",
            "\n",
            "                  Fold 1  Fold 2  Fold 3  Fold 4  Fold 5  Mean    Std     \n",
            "MAE (testset)     0.8499  0.8522  0.8546  0.8517  0.8496  0.8516  0.0018  \n",
            "Fit time          1.18    1.20    1.21    1.24    1.22    1.21    0.02    \n",
            "Test time         0.24    0.25    0.25    0.26    0.26    0.25    0.01    \n"
          ],
          "name": "stdout"
        },
        {
          "output_type": "execute_result",
          "data": {
            "text/plain": [
              "{'fit_time': (1.1802783012390137,\n",
              "  1.200392723083496,\n",
              "  1.2097017765045166,\n",
              "  1.2363059520721436,\n",
              "  1.2248871326446533),\n",
              " 'test_mae': array([0.84991103, 0.85216494, 0.85464929, 0.85173604, 0.84960064]),\n",
              " 'test_time': (0.24498677253723145,\n",
              "  0.25175905227661133,\n",
              "  0.25001049041748047,\n",
              "  0.26079797744750977,\n",
              "  0.2599349021911621)}"
            ]
          },
          "metadata": {
            "tags": []
          },
          "execution_count": 122
        }
      ]
    },
    {
      "cell_type": "code",
      "metadata": {
        "id": "ODPlEzUgUWFr",
        "outputId": "301b86a5-f506-482c-e2d6-cc9c237c56a6",
        "colab": {
          "base_uri": "https://localhost:8080/"
        }
      },
      "source": [
        "## Sample of the Model predictions of Rating being compared by the Actual ratings\n",
        "\n",
        "print(algo.predict('A3500','Bovi Lagos 4',4.70))\n",
        "print(algo.predict('A500', 'AY Lagos 4', 4.81))\n",
        "print(algo.predict('A500', 'Akpororo Warri  2', 4.91))\n",
        "print(algo.predict('A3010', 'AkpororoAbuja1'))\n"
      ],
      "execution_count": 124,
      "outputs": [
        {
          "output_type": "stream",
          "text": [
            "user: A3500      item: Bovi Lagos 4 r_ui = 4.70   est = 4.02   {'was_impossible': False}\n",
            "user: A500       item: AY Lagos 4 r_ui = 4.81   est = 4.11   {'was_impossible': False}\n",
            "user: A500       item: Akpororo Warri  2 r_ui = 4.91   est = 3.52   {'was_impossible': False}\n",
            "user: A3010      item: AkpororoAbuja1 r_ui = None   est = 2.89   {'was_impossible': False}\n"
          ],
          "name": "stdout"
        }
      ]
    },
    {
      "cell_type": "markdown",
      "metadata": {
        "id": "V4EIFka_XQ9k"
      },
      "source": [
        "The model is somewhat okay because there is no big difference between the Actual Rating and the Predicted Ratings"
      ]
    },
    {
      "cell_type": "code",
      "metadata": {
        "id": "t_3L-A8XBDf7",
        "outputId": "0d35f4ff-4319-4761-8e82-39d897310987",
        "colab": {
          "base_uri": "https://localhost:8080/"
        }
      },
      "source": [
        "# Recommeding shows correlation-based similarity\n",
        "\n",
        "show_watched = pivot_t['BasketMouth Lagos 4']\n",
        "similarity = pivot_t.corrwith(show_watched)\n",
        "similarity = similarity.sort_values(ascending=False)\n",
        "similarity.head()"
      ],
      "execution_count": 75,
      "outputs": [
        {
          "output_type": "execute_result",
          "data": {
            "text/plain": [
              "Joke_identifier\n",
              "BasketMouth Lagos 4    1.000000\n",
              "AliBaba Lagos 5        0.660175\n",
              "BasketMouth Abuja 3    0.636770\n",
              "Bovi Lagos 1           0.613731\n",
              "AliBaba Abuja 3        0.609954\n",
              "dtype: float64"
            ]
          },
          "metadata": {
            "tags": []
          },
          "execution_count": 75
        }
      ]
    },
    {
      "cell_type": "markdown",
      "metadata": {
        "id": "g5FELCvYBakV"
      },
      "source": [
        "For a viewer who has watched BasketMouth Lagos 4, the system would recommend Alibaba Lagos 5, BasketMouth Abuja 3, Bovi Lagos 1 and AliBaba Abuja 3 in that order.\n",
        "\n",
        "This states that the Model is good for recommendation."
      ]
    },
    {
      "cell_type": "code",
      "metadata": {
        "id": "6kdWQ31UXGDN",
        "outputId": "af9a1844-9890-4d36-e1c5-58d9633118be",
        "colab": {
          "base_uri": "https://localhost:8080/"
        }
      },
      "source": [
        "## Model accuracy using Rmse\n",
        "train_pred = algo.test(trainset.build_testset())\n",
        "# test_pred = algo.test(comedytest)\n",
        "\n",
        "train_rmse = accuracy.rmse(train_pred, verbose=False)\n",
        "train_rmse\n",
        "print('Accuracy using rmse: {:.2f}%' .format(train_rmse * 100))\n"
      ],
      "execution_count": 134,
      "outputs": [
        {
          "output_type": "stream",
          "text": [
            "Accuracy using rmse: 71.47%\n"
          ],
          "name": "stdout"
        }
      ]
    },
    {
      "cell_type": "markdown",
      "metadata": {
        "id": "Hh2oAsmfXpJ1"
      },
      "source": [
        "The Rmse seems to be okay that means that the model is good but with little hyper parameter tuning it can be fit to make good Ratings Predictions. As per now yes it can be used for recommendation of shows to viewers as the Ratings are well predicted."
      ]
    },
    {
      "cell_type": "markdown",
      "metadata": {
        "id": "HE0GckWsXld3"
      },
      "source": [
        "## Conclusion\n",
        "\n",
        "We see that our recommender has been successful in capturing more information due to more metadata and has given us (arguably) better recommendations.\n",
        "\n",
        " It is more likely that BasketMouth Lagos 4 fans will like the commedy shows of the same production house or the same person e.g BasketMouth Abuja 3. \n",
        " \n",
        "Therefore, the recommender system is good and can be used for recommendation Based on the ratings and the joke_identifier maybe the inclusion of Tv show name while increase the accuracy of reccomendation.\n",
        "\n",
        "Surprise is also good for Recommendation as it reccomends based on users past preferences. It keeps users history to help them in recommending their movie, books, or Tv Shows according to the way they like from their past preferences on their history."
      ]
    }
  ]
}